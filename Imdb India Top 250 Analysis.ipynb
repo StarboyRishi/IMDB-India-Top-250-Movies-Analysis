{
 "cells": [
  {
   "cell_type": "code",
   "execution_count": 36,
   "id": "f7c2a574",
   "metadata": {},
   "outputs": [],
   "source": [
    "import pandas as pd\n",
    "import seaborn as sns\n",
    "import matplotlib.pyplot as plt"
   ]
  },
  {
   "cell_type": "code",
   "execution_count": 37,
   "id": "78a8b5bb",
   "metadata": {},
   "outputs": [
    {
     "data": {
      "text/html": [
       "<div>\n",
       "<style scoped>\n",
       "    .dataframe tbody tr th:only-of-type {\n",
       "        vertical-align: middle;\n",
       "    }\n",
       "\n",
       "    .dataframe tbody tr th {\n",
       "        vertical-align: top;\n",
       "    }\n",
       "\n",
       "    .dataframe thead th {\n",
       "        text-align: right;\n",
       "    }\n",
       "</style>\n",
       "<table border=\"1\" class=\"dataframe\">\n",
       "  <thead>\n",
       "    <tr style=\"text-align: right;\">\n",
       "      <th></th>\n",
       "      <th>Movie name</th>\n",
       "      <th>Year of release</th>\n",
       "      <th>Watch  hour</th>\n",
       "      <th>Rating</th>\n",
       "      <th>Ratedby</th>\n",
       "      <th>Film Industry</th>\n",
       "      <th>Genre</th>\n",
       "      <th>Director</th>\n",
       "      <th>Box office collection</th>\n",
       "      <th>User reviews</th>\n",
       "      <th>Awards</th>\n",
       "      <th>Description</th>\n",
       "      <th>Streaming platform</th>\n",
       "    </tr>\n",
       "  </thead>\n",
       "  <tbody>\n",
       "    <tr>\n",
       "      <th>0</th>\n",
       "      <td>12th Fail</td>\n",
       "      <td>2023</td>\n",
       "      <td>2 hours 27 minutes</td>\n",
       "      <td>8.9</td>\n",
       "      <td>126K</td>\n",
       "      <td>Bollywood (Hindi)</td>\n",
       "      <td>Drama, Biography</td>\n",
       "      <td>Vidhu Vinod Chopra</td>\n",
       "      <td>$138,288.00</td>\n",
       "      <td>945</td>\n",
       "      <td>23 wins &amp; 32 nominations</td>\n",
       "      <td>The real-life story of IPS Officer Manoj Kumar...</td>\n",
       "      <td>SonyLIV</td>\n",
       "    </tr>\n",
       "    <tr>\n",
       "      <th>1</th>\n",
       "      <td>Gol Maal</td>\n",
       "      <td>1979</td>\n",
       "      <td>2 hours</td>\n",
       "      <td>8.5</td>\n",
       "      <td>20K</td>\n",
       "      <td>Bollywood (Hindi)</td>\n",
       "      <td>Comedy</td>\n",
       "      <td>Hrishikesh Mukherjee</td>\n",
       "      <td>NIL</td>\n",
       "      <td>48</td>\n",
       "      <td>3 wins &amp; 1 nomination</td>\n",
       "      <td>A man's simple lie to secure his job escalates...</td>\n",
       "      <td>Amazon Prime Video, YouTube, Zee5</td>\n",
       "    </tr>\n",
       "    <tr>\n",
       "      <th>2</th>\n",
       "      <td>Maharaja</td>\n",
       "      <td>2024</td>\n",
       "      <td>2 hours 30 minutes</td>\n",
       "      <td>8.6</td>\n",
       "      <td>37K</td>\n",
       "      <td>Kollywood (Tamil)</td>\n",
       "      <td>Crime, Drama</td>\n",
       "      <td>Nithilan Saminathan</td>\n",
       "      <td>$975,543.00</td>\n",
       "      <td>370</td>\n",
       "      <td>2 nominations</td>\n",
       "      <td>A barber seeks vengeance after his home is bur...</td>\n",
       "      <td>Netflix</td>\n",
       "    </tr>\n",
       "    <tr>\n",
       "      <th>3</th>\n",
       "      <td>Nayakan</td>\n",
       "      <td>1987</td>\n",
       "      <td>2 hours 25 minutes</td>\n",
       "      <td>8.7</td>\n",
       "      <td>25K</td>\n",
       "      <td>Kollywood (Tamil)</td>\n",
       "      <td>Crime, Drama</td>\n",
       "      <td>Mani Ratnam</td>\n",
       "      <td>$120,481.93</td>\n",
       "      <td>237</td>\n",
       "      <td>7 wins &amp; 1 nomination</td>\n",
       "      <td>A common man's struggles against a corrupt pol...</td>\n",
       "      <td>Amazon Prime Video, YouTube</td>\n",
       "    </tr>\n",
       "    <tr>\n",
       "      <th>4</th>\n",
       "      <td>The World of Apu</td>\n",
       "      <td>1959</td>\n",
       "      <td>1 hour 45 minutes</td>\n",
       "      <td>8.4</td>\n",
       "      <td>17K</td>\n",
       "      <td>Bengali Cinema</td>\n",
       "      <td>Drama</td>\n",
       "      <td>Satyajit Ray</td>\n",
       "      <td>$134,241.00</td>\n",
       "      <td>62</td>\n",
       "      <td>4 wins &amp; 2 nominations total</td>\n",
       "      <td>This final installment in Satyajit Ray's Apu T...</td>\n",
       "      <td>Amazon Prime Video, Hoichoi</td>\n",
       "    </tr>\n",
       "    <tr>\n",
       "      <th>...</th>\n",
       "      <td>...</td>\n",
       "      <td>...</td>\n",
       "      <td>...</td>\n",
       "      <td>...</td>\n",
       "      <td>...</td>\n",
       "      <td>...</td>\n",
       "      <td>...</td>\n",
       "      <td>...</td>\n",
       "      <td>...</td>\n",
       "      <td>...</td>\n",
       "      <td>...</td>\n",
       "      <td>...</td>\n",
       "      <td>...</td>\n",
       "    </tr>\n",
       "    <tr>\n",
       "      <th>245</th>\n",
       "      <td>Mr. India</td>\n",
       "      <td>1987</td>\n",
       "      <td>2 hours 59 minutes</td>\n",
       "      <td>7.7</td>\n",
       "      <td>17K</td>\n",
       "      <td>Bollywood (Hindi)</td>\n",
       "      <td>Action, Sci-Fi, Family</td>\n",
       "      <td>Shekhar Kapur</td>\n",
       "      <td>NIL</td>\n",
       "      <td>25</td>\n",
       "      <td>1 win</td>\n",
       "      <td>A poor but big-hearted man takes orphans into ...</td>\n",
       "      <td>Zee5, Amazon Prime Video</td>\n",
       "    </tr>\n",
       "    <tr>\n",
       "      <th>246</th>\n",
       "      <td>Hazaaron Khwaishein Aisi</td>\n",
       "      <td>2003</td>\n",
       "      <td>2 hours</td>\n",
       "      <td>7.9</td>\n",
       "      <td>5.3K</td>\n",
       "      <td>Bollywood (Hindi)</td>\n",
       "      <td>Political Drama, Romance</td>\n",
       "      <td>Sudhir Mishra</td>\n",
       "      <td>NIL</td>\n",
       "      <td>44</td>\n",
       "      <td>8 wins &amp; 9 nominations</td>\n",
       "      <td>Set in the backdrop of Indian Emergency 1975, ...</td>\n",
       "      <td>Amazon Prime Video</td>\n",
       "    </tr>\n",
       "    <tr>\n",
       "      <th>247</th>\n",
       "      <td>Ghilli</td>\n",
       "      <td>2004</td>\n",
       "      <td>2 hours 40 minutes</td>\n",
       "      <td>8.1</td>\n",
       "      <td>17K</td>\n",
       "      <td>Kollywood (Tamil)</td>\n",
       "      <td>Action, Drama</td>\n",
       "      <td>Dharani</td>\n",
       "      <td>$163,961.00</td>\n",
       "      <td>47</td>\n",
       "      <td>2 wins &amp; 2 nominations</td>\n",
       "      <td>Velu, an aspiring kabaddi player, goes to Madu...</td>\n",
       "      <td>Disney+ Hotstar</td>\n",
       "    </tr>\n",
       "    <tr>\n",
       "      <th>248</th>\n",
       "      <td>Mukundan Unni Associates</td>\n",
       "      <td>2022</td>\n",
       "      <td>2 hours 8 minutes</td>\n",
       "      <td>7.9</td>\n",
       "      <td>6.2K</td>\n",
       "      <td>Mollywood (Malayalam)</td>\n",
       "      <td>Satire, Drama</td>\n",
       "      <td>Abhinav Sunder Nayak</td>\n",
       "      <td>$44,990.00</td>\n",
       "      <td>62</td>\n",
       "      <td>1 win</td>\n",
       "      <td>Advocate Mukundan Unni, played by Vineeth Sree...</td>\n",
       "      <td>Disney+ Hotstar</td>\n",
       "    </tr>\n",
       "    <tr>\n",
       "      <th>249</th>\n",
       "      <td>Happy Days</td>\n",
       "      <td>2007</td>\n",
       "      <td>2 hours 33 minutes</td>\n",
       "      <td>7.9</td>\n",
       "      <td>6.3K</td>\n",
       "      <td>Tollywood (Telugu)</td>\n",
       "      <td>Drama, Romance, Comedy</td>\n",
       "      <td>Sekhar Kammula</td>\n",
       "      <td>$361,445.78</td>\n",
       "      <td>16</td>\n",
       "      <td>7 wins</td>\n",
       "      <td>A group of eight youngsters from an engineerin...</td>\n",
       "      <td>Amazon Prime Video</td>\n",
       "    </tr>\n",
       "  </tbody>\n",
       "</table>\n",
       "<p>250 rows × 13 columns</p>\n",
       "</div>"
      ],
      "text/plain": [
       "                   Movie name  Year of release        Watch  hour   Rating  \\\n",
       "0                   12th Fail             2023  2 hours 27 minutes     8.9   \n",
       "1                    Gol Maal             1979            2 hours      8.5   \n",
       "2                    Maharaja             2024  2 hours 30 minutes     8.6   \n",
       "3                     Nayakan             1987  2 hours 25 minutes     8.7   \n",
       "4            The World of Apu             1959   1 hour 45 minutes     8.4   \n",
       "..                        ...              ...                 ...     ...   \n",
       "245                 Mr. India             1987  2 hours 59 minutes     7.7   \n",
       "246  Hazaaron Khwaishein Aisi             2003            2 hours      7.9   \n",
       "247                    Ghilli             2004  2 hours 40 minutes     8.1   \n",
       "248  Mukundan Unni Associates             2022   2 hours 8 minutes     7.9   \n",
       "249                Happy Days             2007  2 hours 33 minutes     7.9   \n",
       "\n",
       "    Ratedby          Film Industry                     Genre  \\\n",
       "0      126K      Bollywood (Hindi)          Drama, Biography   \n",
       "1       20K      Bollywood (Hindi)                    Comedy   \n",
       "2       37K      Kollywood (Tamil)              Crime, Drama   \n",
       "3       25K      Kollywood (Tamil)              Crime, Drama   \n",
       "4       17K         Bengali Cinema                     Drama   \n",
       "..      ...                    ...                       ...   \n",
       "245     17K      Bollywood (Hindi)    Action, Sci-Fi, Family   \n",
       "246    5.3K      Bollywood (Hindi)  Political Drama, Romance   \n",
       "247     17K      Kollywood (Tamil)             Action, Drama   \n",
       "248    6.2K  Mollywood (Malayalam)             Satire, Drama   \n",
       "249    6.3K     Tollywood (Telugu)    Drama, Romance, Comedy   \n",
       "\n",
       "                 Director Box office collection  User reviews  \\\n",
       "0      Vidhu Vinod Chopra           $138,288.00           945   \n",
       "1    Hrishikesh Mukherjee                   NIL            48   \n",
       "2     Nithilan Saminathan           $975,543.00           370   \n",
       "3             Mani Ratnam           $120,481.93           237   \n",
       "4            Satyajit Ray           $134,241.00            62   \n",
       "..                    ...                   ...           ...   \n",
       "245         Shekhar Kapur                   NIL            25   \n",
       "246         Sudhir Mishra                   NIL            44   \n",
       "247               Dharani           $163,961.00            47   \n",
       "248  Abhinav Sunder Nayak            $44,990.00            62   \n",
       "249        Sekhar Kammula           $361,445.78            16   \n",
       "\n",
       "                           Awards  \\\n",
       "0        23 wins & 32 nominations   \n",
       "1           3 wins & 1 nomination   \n",
       "2                   2 nominations   \n",
       "3           7 wins & 1 nomination   \n",
       "4    4 wins & 2 nominations total   \n",
       "..                            ...   \n",
       "245                         1 win   \n",
       "246        8 wins & 9 nominations   \n",
       "247        2 wins & 2 nominations   \n",
       "248                         1 win   \n",
       "249                        7 wins   \n",
       "\n",
       "                                           Description  \\\n",
       "0    The real-life story of IPS Officer Manoj Kumar...   \n",
       "1    A man's simple lie to secure his job escalates...   \n",
       "2    A barber seeks vengeance after his home is bur...   \n",
       "3    A common man's struggles against a corrupt pol...   \n",
       "4    This final installment in Satyajit Ray's Apu T...   \n",
       "..                                                 ...   \n",
       "245  A poor but big-hearted man takes orphans into ...   \n",
       "246  Set in the backdrop of Indian Emergency 1975, ...   \n",
       "247  Velu, an aspiring kabaddi player, goes to Madu...   \n",
       "248  Advocate Mukundan Unni, played by Vineeth Sree...   \n",
       "249  A group of eight youngsters from an engineerin...   \n",
       "\n",
       "                    Streaming platform  \n",
       "0                              SonyLIV  \n",
       "1    Amazon Prime Video, YouTube, Zee5  \n",
       "2                              Netflix  \n",
       "3          Amazon Prime Video, YouTube  \n",
       "4          Amazon Prime Video, Hoichoi  \n",
       "..                                 ...  \n",
       "245           Zee5, Amazon Prime Video  \n",
       "246                 Amazon Prime Video  \n",
       "247                    Disney+ Hotstar  \n",
       "248                    Disney+ Hotstar  \n",
       "249                 Amazon Prime Video  \n",
       "\n",
       "[250 rows x 13 columns]"
      ]
     },
     "execution_count": 37,
     "metadata": {},
     "output_type": "execute_result"
    }
   ],
   "source": [
    "file = pd.read_csv('IMdB_India_Top250.csv')\n",
    "file"
   ]
  },
  {
   "cell_type": "code",
   "execution_count": 38,
   "id": "b414800c",
   "metadata": {},
   "outputs": [
    {
     "data": {
      "text/html": [
       "<div>\n",
       "<style scoped>\n",
       "    .dataframe tbody tr th:only-of-type {\n",
       "        vertical-align: middle;\n",
       "    }\n",
       "\n",
       "    .dataframe tbody tr th {\n",
       "        vertical-align: top;\n",
       "    }\n",
       "\n",
       "    .dataframe thead th {\n",
       "        text-align: right;\n",
       "    }\n",
       "</style>\n",
       "<table border=\"1\" class=\"dataframe\">\n",
       "  <thead>\n",
       "    <tr style=\"text-align: right;\">\n",
       "      <th></th>\n",
       "      <th>Movie name</th>\n",
       "      <th>Year of release</th>\n",
       "      <th>Watch  hour</th>\n",
       "      <th>Rating</th>\n",
       "      <th>Ratedby</th>\n",
       "      <th>Film Industry</th>\n",
       "      <th>Genre</th>\n",
       "      <th>Director</th>\n",
       "      <th>Box office collection</th>\n",
       "      <th>User reviews</th>\n",
       "      <th>Awards</th>\n",
       "      <th>Description</th>\n",
       "      <th>Streaming platform</th>\n",
       "    </tr>\n",
       "  </thead>\n",
       "  <tbody>\n",
       "    <tr>\n",
       "      <th>0</th>\n",
       "      <td>12th Fail</td>\n",
       "      <td>2023</td>\n",
       "      <td>2 hours 27 minutes</td>\n",
       "      <td>8.9</td>\n",
       "      <td>126K</td>\n",
       "      <td>Bollywood (Hindi)</td>\n",
       "      <td>Drama, Biography</td>\n",
       "      <td>Vidhu Vinod Chopra</td>\n",
       "      <td>$138,288.00</td>\n",
       "      <td>945</td>\n",
       "      <td>23 wins &amp; 32 nominations</td>\n",
       "      <td>The real-life story of IPS Officer Manoj Kumar...</td>\n",
       "      <td>SonyLIV</td>\n",
       "    </tr>\n",
       "    <tr>\n",
       "      <th>1</th>\n",
       "      <td>Gol Maal</td>\n",
       "      <td>1979</td>\n",
       "      <td>2 hours</td>\n",
       "      <td>8.5</td>\n",
       "      <td>20K</td>\n",
       "      <td>Bollywood (Hindi)</td>\n",
       "      <td>Comedy</td>\n",
       "      <td>Hrishikesh Mukherjee</td>\n",
       "      <td>NIL</td>\n",
       "      <td>48</td>\n",
       "      <td>3 wins &amp; 1 nomination</td>\n",
       "      <td>A man's simple lie to secure his job escalates...</td>\n",
       "      <td>Amazon Prime Video, YouTube, Zee5</td>\n",
       "    </tr>\n",
       "    <tr>\n",
       "      <th>2</th>\n",
       "      <td>Maharaja</td>\n",
       "      <td>2024</td>\n",
       "      <td>2 hours 30 minutes</td>\n",
       "      <td>8.6</td>\n",
       "      <td>37K</td>\n",
       "      <td>Kollywood (Tamil)</td>\n",
       "      <td>Crime, Drama</td>\n",
       "      <td>Nithilan Saminathan</td>\n",
       "      <td>$975,543.00</td>\n",
       "      <td>370</td>\n",
       "      <td>2 nominations</td>\n",
       "      <td>A barber seeks vengeance after his home is bur...</td>\n",
       "      <td>Netflix</td>\n",
       "    </tr>\n",
       "    <tr>\n",
       "      <th>3</th>\n",
       "      <td>Nayakan</td>\n",
       "      <td>1987</td>\n",
       "      <td>2 hours 25 minutes</td>\n",
       "      <td>8.7</td>\n",
       "      <td>25K</td>\n",
       "      <td>Kollywood (Tamil)</td>\n",
       "      <td>Crime, Drama</td>\n",
       "      <td>Mani Ratnam</td>\n",
       "      <td>$120,481.93</td>\n",
       "      <td>237</td>\n",
       "      <td>7 wins &amp; 1 nomination</td>\n",
       "      <td>A common man's struggles against a corrupt pol...</td>\n",
       "      <td>Amazon Prime Video, YouTube</td>\n",
       "    </tr>\n",
       "    <tr>\n",
       "      <th>4</th>\n",
       "      <td>The World of Apu</td>\n",
       "      <td>1959</td>\n",
       "      <td>1 hour 45 minutes</td>\n",
       "      <td>8.4</td>\n",
       "      <td>17K</td>\n",
       "      <td>Bengali Cinema</td>\n",
       "      <td>Drama</td>\n",
       "      <td>Satyajit Ray</td>\n",
       "      <td>$134,241.00</td>\n",
       "      <td>62</td>\n",
       "      <td>4 wins &amp; 2 nominations total</td>\n",
       "      <td>This final installment in Satyajit Ray's Apu T...</td>\n",
       "      <td>Amazon Prime Video, Hoichoi</td>\n",
       "    </tr>\n",
       "  </tbody>\n",
       "</table>\n",
       "</div>"
      ],
      "text/plain": [
       "         Movie name  Year of release        Watch  hour   Rating Ratedby  \\\n",
       "0         12th Fail             2023  2 hours 27 minutes     8.9    126K   \n",
       "1          Gol Maal             1979            2 hours      8.5     20K   \n",
       "2          Maharaja             2024  2 hours 30 minutes     8.6     37K   \n",
       "3           Nayakan             1987  2 hours 25 minutes     8.7     25K   \n",
       "4  The World of Apu             1959   1 hour 45 minutes     8.4     17K   \n",
       "\n",
       "       Film Industry             Genre              Director  \\\n",
       "0  Bollywood (Hindi)  Drama, Biography    Vidhu Vinod Chopra   \n",
       "1  Bollywood (Hindi)            Comedy  Hrishikesh Mukherjee   \n",
       "2  Kollywood (Tamil)      Crime, Drama   Nithilan Saminathan   \n",
       "3  Kollywood (Tamil)      Crime, Drama           Mani Ratnam   \n",
       "4     Bengali Cinema             Drama          Satyajit Ray   \n",
       "\n",
       "  Box office collection  User reviews                        Awards  \\\n",
       "0           $138,288.00           945      23 wins & 32 nominations   \n",
       "1                   NIL            48         3 wins & 1 nomination   \n",
       "2           $975,543.00           370                 2 nominations   \n",
       "3           $120,481.93           237         7 wins & 1 nomination   \n",
       "4           $134,241.00            62  4 wins & 2 nominations total   \n",
       "\n",
       "                                         Description  \\\n",
       "0  The real-life story of IPS Officer Manoj Kumar...   \n",
       "1  A man's simple lie to secure his job escalates...   \n",
       "2  A barber seeks vengeance after his home is bur...   \n",
       "3  A common man's struggles against a corrupt pol...   \n",
       "4  This final installment in Satyajit Ray's Apu T...   \n",
       "\n",
       "                  Streaming platform  \n",
       "0                            SonyLIV  \n",
       "1  Amazon Prime Video, YouTube, Zee5  \n",
       "2                            Netflix  \n",
       "3        Amazon Prime Video, YouTube  \n",
       "4        Amazon Prime Video, Hoichoi  "
      ]
     },
     "execution_count": 38,
     "metadata": {},
     "output_type": "execute_result"
    }
   ],
   "source": [
    "file.head()"
   ]
  },
  {
   "cell_type": "code",
   "execution_count": 39,
   "id": "c28a4244",
   "metadata": {},
   "outputs": [
    {
     "data": {
      "text/plain": [
       "Movie name                object\n",
       "Year of release            int64\n",
       "Watch  hour               object\n",
       "Rating                   float64\n",
       "Ratedby                   object\n",
       "Film Industry             object\n",
       "Genre                     object\n",
       "Director                  object\n",
       "Box office collection     object\n",
       "User reviews               int64\n",
       "Awards                    object\n",
       "Description               object\n",
       "Streaming platform        object\n",
       "dtype: object"
      ]
     },
     "execution_count": 39,
     "metadata": {},
     "output_type": "execute_result"
    }
   ],
   "source": [
    "file.dtypes"
   ]
  },
  {
   "cell_type": "code",
   "execution_count": 40,
   "id": "8d8aac2d",
   "metadata": {},
   "outputs": [
    {
     "data": {
      "text/plain": [
       "Movie name               0\n",
       "Year of release          0\n",
       "Watch  hour              0\n",
       "Rating                   0\n",
       "Ratedby                  0\n",
       "Film Industry            0\n",
       "Genre                    0\n",
       "Director                 0\n",
       "Box office collection    0\n",
       "User reviews             0\n",
       "Awards                   0\n",
       "Description              0\n",
       "Streaming platform       0\n",
       "dtype: int64"
      ]
     },
     "execution_count": 40,
     "metadata": {},
     "output_type": "execute_result"
    }
   ],
   "source": [
    "file.isnull().sum()"
   ]
  },
  {
   "cell_type": "code",
   "execution_count": 41,
   "id": "2d8c0526",
   "metadata": {},
   "outputs": [
    {
     "data": {
      "text/html": [
       "<div>\n",
       "<style scoped>\n",
       "    .dataframe tbody tr th:only-of-type {\n",
       "        vertical-align: middle;\n",
       "    }\n",
       "\n",
       "    .dataframe tbody tr th {\n",
       "        vertical-align: top;\n",
       "    }\n",
       "\n",
       "    .dataframe thead th {\n",
       "        text-align: right;\n",
       "    }\n",
       "</style>\n",
       "<table border=\"1\" class=\"dataframe\">\n",
       "  <thead>\n",
       "    <tr style=\"text-align: right;\">\n",
       "      <th></th>\n",
       "      <th>Year of release</th>\n",
       "      <th>Rating</th>\n",
       "      <th>User reviews</th>\n",
       "    </tr>\n",
       "  </thead>\n",
       "  <tbody>\n",
       "    <tr>\n",
       "      <th>count</th>\n",
       "      <td>250.000000</td>\n",
       "      <td>250.000000</td>\n",
       "      <td>250.00000</td>\n",
       "    </tr>\n",
       "    <tr>\n",
       "      <th>mean</th>\n",
       "      <td>2008.388000</td>\n",
       "      <td>8.190400</td>\n",
       "      <td>222.18400</td>\n",
       "    </tr>\n",
       "    <tr>\n",
       "      <th>std</th>\n",
       "      <td>14.708597</td>\n",
       "      <td>0.252513</td>\n",
       "      <td>388.15949</td>\n",
       "    </tr>\n",
       "    <tr>\n",
       "      <th>min</th>\n",
       "      <td>1955.000000</td>\n",
       "      <td>7.700000</td>\n",
       "      <td>10.00000</td>\n",
       "    </tr>\n",
       "    <tr>\n",
       "      <th>25%</th>\n",
       "      <td>2003.000000</td>\n",
       "      <td>8.000000</td>\n",
       "      <td>39.00000</td>\n",
       "    </tr>\n",
       "    <tr>\n",
       "      <th>50%</th>\n",
       "      <td>2013.000000</td>\n",
       "      <td>8.150000</td>\n",
       "      <td>94.50000</td>\n",
       "    </tr>\n",
       "    <tr>\n",
       "      <th>75%</th>\n",
       "      <td>2018.000000</td>\n",
       "      <td>8.300000</td>\n",
       "      <td>231.50000</td>\n",
       "    </tr>\n",
       "    <tr>\n",
       "      <th>max</th>\n",
       "      <td>2024.000000</td>\n",
       "      <td>9.100000</td>\n",
       "      <td>3300.00000</td>\n",
       "    </tr>\n",
       "  </tbody>\n",
       "</table>\n",
       "</div>"
      ],
      "text/plain": [
       "       Year of release      Rating  User reviews\n",
       "count       250.000000  250.000000     250.00000\n",
       "mean       2008.388000    8.190400     222.18400\n",
       "std          14.708597    0.252513     388.15949\n",
       "min        1955.000000    7.700000      10.00000\n",
       "25%        2003.000000    8.000000      39.00000\n",
       "50%        2013.000000    8.150000      94.50000\n",
       "75%        2018.000000    8.300000     231.50000\n",
       "max        2024.000000    9.100000    3300.00000"
      ]
     },
     "execution_count": 41,
     "metadata": {},
     "output_type": "execute_result"
    }
   ],
   "source": [
    "file.describe()"
   ]
  },
  {
   "cell_type": "code",
   "execution_count": 42,
   "id": "135b857b",
   "metadata": {},
   "outputs": [
    {
     "data": {
      "text/html": [
       "<div>\n",
       "<style scoped>\n",
       "    .dataframe tbody tr th:only-of-type {\n",
       "        vertical-align: middle;\n",
       "    }\n",
       "\n",
       "    .dataframe tbody tr th {\n",
       "        vertical-align: top;\n",
       "    }\n",
       "\n",
       "    .dataframe thead th {\n",
       "        text-align: right;\n",
       "    }\n",
       "</style>\n",
       "<table border=\"1\" class=\"dataframe\">\n",
       "  <thead>\n",
       "    <tr style=\"text-align: right;\">\n",
       "      <th></th>\n",
       "      <th>Movie name</th>\n",
       "      <th>Rating</th>\n",
       "      <th>Genre</th>\n",
       "      <th>Director</th>\n",
       "      <th>Film Industry</th>\n",
       "    </tr>\n",
       "  </thead>\n",
       "  <tbody>\n",
       "    <tr>\n",
       "      <th>27</th>\n",
       "      <td>Mayabazar</td>\n",
       "      <td>9.1</td>\n",
       "      <td>Fantasy, Mythological</td>\n",
       "      <td>Kadiri Venkata Reddy</td>\n",
       "      <td>Tollywood (Telugu)</td>\n",
       "    </tr>\n",
       "    <tr>\n",
       "      <th>17</th>\n",
       "      <td>Sandesham</td>\n",
       "      <td>9.0</td>\n",
       "      <td>Political Satire, Comedy</td>\n",
       "      <td>Sathyan Anthikad</td>\n",
       "      <td>Mollywood (Malayalam)</td>\n",
       "    </tr>\n",
       "    <tr>\n",
       "      <th>0</th>\n",
       "      <td>12th Fail</td>\n",
       "      <td>8.9</td>\n",
       "      <td>Drama, Biography</td>\n",
       "      <td>Vidhu Vinod Chopra</td>\n",
       "      <td>Bollywood (Hindi)</td>\n",
       "    </tr>\n",
       "    <tr>\n",
       "      <th>14</th>\n",
       "      <td>Kireedam</td>\n",
       "      <td>8.9</td>\n",
       "      <td>Drama, Family</td>\n",
       "      <td>Sibi Malayil</td>\n",
       "      <td>Mollywood (Malayalam)</td>\n",
       "    </tr>\n",
       "    <tr>\n",
       "      <th>8</th>\n",
       "      <td>#Home</td>\n",
       "      <td>8.8</td>\n",
       "      <td>Drama, Family</td>\n",
       "      <td>Rojin Thomas</td>\n",
       "      <td>Mollywood (Malayalam)</td>\n",
       "    </tr>\n",
       "    <tr>\n",
       "      <th>28</th>\n",
       "      <td>Nadodikkattu</td>\n",
       "      <td>8.8</td>\n",
       "      <td>Satire, Comedy, Thriller</td>\n",
       "      <td>Sathyan Anthikad</td>\n",
       "      <td>Mollywood (Malayalam)</td>\n",
       "    </tr>\n",
       "    <tr>\n",
       "      <th>15</th>\n",
       "      <td>C/o Kancharapalem</td>\n",
       "      <td>8.8</td>\n",
       "      <td>Drama, Anthology</td>\n",
       "      <td>Venkatesh Maha</td>\n",
       "      <td>Tollywood (Telugu)</td>\n",
       "    </tr>\n",
       "    <tr>\n",
       "      <th>40</th>\n",
       "      <td>Nuvvu Naaku Nachchav</td>\n",
       "      <td>8.8</td>\n",
       "      <td>Romance, Comedy</td>\n",
       "      <td>Vijay K. Bhaskar</td>\n",
       "      <td>Tollywood (Telugu)</td>\n",
       "    </tr>\n",
       "    <tr>\n",
       "      <th>23</th>\n",
       "      <td>Natsamrat</td>\n",
       "      <td>8.8</td>\n",
       "      <td>Drama, Tragedy</td>\n",
       "      <td>Mahesh Manjrekar</td>\n",
       "      <td>Marathi Cinema</td>\n",
       "    </tr>\n",
       "    <tr>\n",
       "      <th>49</th>\n",
       "      <td>Devasuram</td>\n",
       "      <td>8.7</td>\n",
       "      <td>Drama, Action</td>\n",
       "      <td>I.V. Sasi</td>\n",
       "      <td>Mollywood (Malayalam)</td>\n",
       "    </tr>\n",
       "  </tbody>\n",
       "</table>\n",
       "</div>"
      ],
      "text/plain": [
       "              Movie name  Rating                     Genre  \\\n",
       "27             Mayabazar     9.1     Fantasy, Mythological   \n",
       "17             Sandesham     9.0  Political Satire, Comedy   \n",
       "0              12th Fail     8.9          Drama, Biography   \n",
       "14              Kireedam     8.9             Drama, Family   \n",
       "8                  #Home     8.8             Drama, Family   \n",
       "28          Nadodikkattu     8.8  Satire, Comedy, Thriller   \n",
       "15     C/o Kancharapalem     8.8          Drama, Anthology   \n",
       "40  Nuvvu Naaku Nachchav     8.8           Romance, Comedy   \n",
       "23             Natsamrat     8.8            Drama, Tragedy   \n",
       "49             Devasuram     8.7             Drama, Action   \n",
       "\n",
       "                Director          Film Industry  \n",
       "27  Kadiri Venkata Reddy     Tollywood (Telugu)  \n",
       "17      Sathyan Anthikad  Mollywood (Malayalam)  \n",
       "0     Vidhu Vinod Chopra      Bollywood (Hindi)  \n",
       "14          Sibi Malayil  Mollywood (Malayalam)  \n",
       "8           Rojin Thomas  Mollywood (Malayalam)  \n",
       "28      Sathyan Anthikad  Mollywood (Malayalam)  \n",
       "15        Venkatesh Maha     Tollywood (Telugu)  \n",
       "40      Vijay K. Bhaskar     Tollywood (Telugu)  \n",
       "23      Mahesh Manjrekar         Marathi Cinema  \n",
       "49             I.V. Sasi  Mollywood (Malayalam)  "
      ]
     },
     "execution_count": 42,
     "metadata": {},
     "output_type": "execute_result"
    }
   ],
   "source": [
    "top_movies = file[['Movie name', 'Rating', 'Genre', 'Director', 'Film Industry']].sort_values(by='Rating', ascending=False).head(10)\n",
    "top_movies"
   ]
  },
  {
   "cell_type": "code",
   "execution_count": 75,
   "id": "fe6f5b0d",
   "metadata": {},
   "outputs": [
    {
     "data": {
      "image/png": "[encoded data removed]",
      "text/plain": [
       "<Figure size 2160x1440 with 1 Axes>"
      ]
     },
     "metadata": {
      "needs_background": "light"
     },
     "output_type": "display_data"
    }
   ],
   "source": [
    "file['Year of release'] = pd.to_datetime(file['Year of release'], format='%Y')\n",
    "yearly_trend = file.groupby(file['Year of release'].dt.year).agg({\n",
    "    'Rating': 'mean',\n",
    "    'Box office collection': 'sum'\n",
    "}).reset_index()\n",
    "\n",
    "plt.figure(figsize=(30, 20))\n",
    "plt.plot(yearly_trend['Year of release'], yearly_trend['Rating'], marker='o', label='Average Rating')\n",
    "plt.plot(yearly_trend['Year of release'], yearly_trend['Box office collection'], marker='o', label='Total Box Office Collection')\n",
    "plt.title('Trend of Ratings and Box Office Collections Over Time')\n",
    "plt.xlabel('Year')\n",
    "plt.ylabel('Value')\n",
    "plt.legend()\n",
    "plt.grid(True)\n",
    "plt.show()\n"
   ]
  },
  {
   "cell_type": "code",
   "execution_count": 46,
   "id": "9aab4e1a",
   "metadata": {},
   "outputs": [
    {
     "data": {
      "image/png": "[encoded data removed]",
      "text/plain": [
       "<Figure size 720x360 with 1 Axes>"
      ]
     },
     "metadata": {
      "needs_background": "light"
     },
     "output_type": "display_data"
    }
   ],
   "source": [
    "genre_popularity = file['Genre'].value_counts().head(10)\n",
    "genre_popularity.plot(kind='bar', figsize=(10, 5), title='Top 10 Popular Genres',cmap='coolwarm')\n",
    "plt.xlabel('Genre')\n",
    "plt.ylabel('Number of Movies')\n",
    "plt.show()"
   ]
  },
  {
   "cell_type": "code",
   "execution_count": 63,
   "id": "11983083",
   "metadata": {},
   "outputs": [
    {
     "data": {
      "text/html": [
       "<div>\n",
       "<style scoped>\n",
       "    .dataframe tbody tr th:only-of-type {\n",
       "        vertical-align: middle;\n",
       "    }\n",
       "\n",
       "    .dataframe tbody tr th {\n",
       "        vertical-align: top;\n",
       "    }\n",
       "\n",
       "    .dataframe thead th {\n",
       "        text-align: right;\n",
       "    }\n",
       "</style>\n",
       "<table border=\"1\" class=\"dataframe\">\n",
       "  <thead>\n",
       "    <tr style=\"text-align: right;\">\n",
       "      <th></th>\n",
       "      <th>Movie name</th>\n",
       "      <th>Director</th>\n",
       "      <th>Rating</th>\n",
       "    </tr>\n",
       "  </thead>\n",
       "  <tbody>\n",
       "    <tr>\n",
       "      <th>3</th>\n",
       "      <td>Nayakan</td>\n",
       "      <td>Mani Ratnam</td>\n",
       "      <td>8.7</td>\n",
       "    </tr>\n",
       "    <tr>\n",
       "      <th>32</th>\n",
       "      <td>Thalapathi</td>\n",
       "      <td>Mani Ratnam</td>\n",
       "      <td>8.5</td>\n",
       "    </tr>\n",
       "    <tr>\n",
       "      <th>63</th>\n",
       "      <td>Mudhalvan</td>\n",
       "      <td>S. Shankar</td>\n",
       "      <td>8.4</td>\n",
       "    </tr>\n",
       "    <tr>\n",
       "      <th>7</th>\n",
       "      <td>3 Idiots</td>\n",
       "      <td>Rajkumar Hirani</td>\n",
       "      <td>8.4</td>\n",
       "    </tr>\n",
       "    <tr>\n",
       "      <th>9</th>\n",
       "      <td>Black Friday</td>\n",
       "      <td>Anurag Kashyap</td>\n",
       "      <td>8.4</td>\n",
       "    </tr>\n",
       "    <tr>\n",
       "      <th>24</th>\n",
       "      <td>Visaaranai</td>\n",
       "      <td>Vetrimaaran</td>\n",
       "      <td>8.4</td>\n",
       "    </tr>\n",
       "    <tr>\n",
       "      <th>25</th>\n",
       "      <td>Drishyam 2</td>\n",
       "      <td>Jeethu Joseph</td>\n",
       "      <td>8.4</td>\n",
       "    </tr>\n",
       "    <tr>\n",
       "      <th>26</th>\n",
       "      <td>Kaithi</td>\n",
       "      <td>Lokesh Kanagaraj</td>\n",
       "      <td>8.4</td>\n",
       "    </tr>\n",
       "    <tr>\n",
       "      <th>30</th>\n",
       "      <td>Asuran</td>\n",
       "      <td>Vetrimaaran</td>\n",
       "      <td>8.4</td>\n",
       "    </tr>\n",
       "    <tr>\n",
       "      <th>4</th>\n",
       "      <td>The World of Apu</td>\n",
       "      <td>Satyajit Ray</td>\n",
       "      <td>8.4</td>\n",
       "    </tr>\n",
       "    <tr>\n",
       "      <th>41</th>\n",
       "      <td>Vada Chennai</td>\n",
       "      <td>Vetrimaaran</td>\n",
       "      <td>8.4</td>\n",
       "    </tr>\n",
       "    <tr>\n",
       "      <th>74</th>\n",
       "      <td>Papanasam</td>\n",
       "      <td>Jeethu Joseph</td>\n",
       "      <td>8.4</td>\n",
       "    </tr>\n",
       "    <tr>\n",
       "      <th>60</th>\n",
       "      <td>Iruvar</td>\n",
       "      <td>Mani Ratnam</td>\n",
       "      <td>8.4</td>\n",
       "    </tr>\n",
       "    <tr>\n",
       "      <th>135</th>\n",
       "      <td>Viduthalai: Part 1</td>\n",
       "      <td>Vetrimaaran</td>\n",
       "      <td>8.3</td>\n",
       "    </tr>\n",
       "    <tr>\n",
       "      <th>124</th>\n",
       "      <td>Alai Payuthey</td>\n",
       "      <td>Mani Ratnam</td>\n",
       "      <td>8.3</td>\n",
       "    </tr>\n",
       "    <tr>\n",
       "      <th>88</th>\n",
       "      <td>Vikram</td>\n",
       "      <td>Lokesh Kanagaraj</td>\n",
       "      <td>8.3</td>\n",
       "    </tr>\n",
       "    <tr>\n",
       "      <th>65</th>\n",
       "      <td>Kannathil Muthamittal</td>\n",
       "      <td>Mani Ratnam</td>\n",
       "      <td>8.3</td>\n",
       "    </tr>\n",
       "    <tr>\n",
       "      <th>35</th>\n",
       "      <td>Anniyan</td>\n",
       "      <td>S. Shankar</td>\n",
       "      <td>8.3</td>\n",
       "    </tr>\n",
       "    <tr>\n",
       "      <th>34</th>\n",
       "      <td>Drishyam</td>\n",
       "      <td>Jeethu Joseph</td>\n",
       "      <td>8.3</td>\n",
       "    </tr>\n",
       "    <tr>\n",
       "      <th>51</th>\n",
       "      <td>Gangs of Wasseypur</td>\n",
       "      <td>Anurag Kashyap</td>\n",
       "      <td>8.2</td>\n",
       "    </tr>\n",
       "    <tr>\n",
       "      <th>43</th>\n",
       "      <td>Pather Panchali</td>\n",
       "      <td>Satyajit Ray</td>\n",
       "      <td>8.2</td>\n",
       "    </tr>\n",
       "    <tr>\n",
       "      <th>38</th>\n",
       "      <td>Aparajito</td>\n",
       "      <td>Satyajit Ray</td>\n",
       "      <td>8.2</td>\n",
       "    </tr>\n",
       "    <tr>\n",
       "      <th>144</th>\n",
       "      <td>Vaaranam Aayiram</td>\n",
       "      <td>Gautham Vasudev Menon</td>\n",
       "      <td>8.2</td>\n",
       "    </tr>\n",
       "    <tr>\n",
       "      <th>161</th>\n",
       "      <td>Maanagaram</td>\n",
       "      <td>Lokesh Kanagaraj</td>\n",
       "      <td>8.1</td>\n",
       "    </tr>\n",
       "    <tr>\n",
       "      <th>130</th>\n",
       "      <td>Bombay</td>\n",
       "      <td>Mani Ratnam</td>\n",
       "      <td>8.1</td>\n",
       "    </tr>\n",
       "    <tr>\n",
       "      <th>194</th>\n",
       "      <td>Vinnaithaandi Varuvaayaa</td>\n",
       "      <td>Gautham Vasudev Menon</td>\n",
       "      <td>8.1</td>\n",
       "    </tr>\n",
       "    <tr>\n",
       "      <th>134</th>\n",
       "      <td>Indian</td>\n",
       "      <td>S. Shankar</td>\n",
       "      <td>8.1</td>\n",
       "    </tr>\n",
       "    <tr>\n",
       "      <th>155</th>\n",
       "      <td>Aadukalam</td>\n",
       "      <td>Vetrimaaran</td>\n",
       "      <td>8.1</td>\n",
       "    </tr>\n",
       "    <tr>\n",
       "      <th>68</th>\n",
       "      <td>Munna Bhai M.B.B.S.</td>\n",
       "      <td>Rajkumar Hirani</td>\n",
       "      <td>8.1</td>\n",
       "    </tr>\n",
       "    <tr>\n",
       "      <th>125</th>\n",
       "      <td>Roja</td>\n",
       "      <td>Mani Ratnam</td>\n",
       "      <td>8.1</td>\n",
       "    </tr>\n",
       "    <tr>\n",
       "      <th>120</th>\n",
       "      <td>Charulata</td>\n",
       "      <td>Satyajit Ray</td>\n",
       "      <td>8.1</td>\n",
       "    </tr>\n",
       "    <tr>\n",
       "      <th>84</th>\n",
       "      <td>PK</td>\n",
       "      <td>Rajkumar Hirani</td>\n",
       "      <td>8.1</td>\n",
       "    </tr>\n",
       "    <tr>\n",
       "      <th>216</th>\n",
       "      <td>Memories</td>\n",
       "      <td>Jeethu Joseph</td>\n",
       "      <td>8.0</td>\n",
       "    </tr>\n",
       "    <tr>\n",
       "      <th>186</th>\n",
       "      <td>The Brawler</td>\n",
       "      <td>Anurag Kashyap</td>\n",
       "      <td>8.0</td>\n",
       "    </tr>\n",
       "    <tr>\n",
       "      <th>227</th>\n",
       "      <td>Kaakha Kaakha</td>\n",
       "      <td>Gautham Vasudev Menon</td>\n",
       "      <td>8.0</td>\n",
       "    </tr>\n",
       "    <tr>\n",
       "      <th>114</th>\n",
       "      <td>Lage Raho Munna Bhai</td>\n",
       "      <td>Rajkumar Hirani</td>\n",
       "      <td>8.0</td>\n",
       "    </tr>\n",
       "    <tr>\n",
       "      <th>148</th>\n",
       "      <td>Haider</td>\n",
       "      <td>Vishal Bhardwaj</td>\n",
       "      <td>8.0</td>\n",
       "    </tr>\n",
       "    <tr>\n",
       "      <th>146</th>\n",
       "      <td>Gulaal</td>\n",
       "      <td>Anurag Kashyap</td>\n",
       "      <td>8.0</td>\n",
       "    </tr>\n",
       "    <tr>\n",
       "      <th>140</th>\n",
       "      <td>Maqbool</td>\n",
       "      <td>Vishal Bhardwaj</td>\n",
       "      <td>8.0</td>\n",
       "    </tr>\n",
       "    <tr>\n",
       "      <th>129</th>\n",
       "      <td>Omkara</td>\n",
       "      <td>Vishal Bhardwaj</td>\n",
       "      <td>8.0</td>\n",
       "    </tr>\n",
       "    <tr>\n",
       "      <th>163</th>\n",
       "      <td>Ugly</td>\n",
       "      <td>Anurag Kashyap</td>\n",
       "      <td>7.9</td>\n",
       "    </tr>\n",
       "    <tr>\n",
       "      <th>184</th>\n",
       "      <td>Dev.D</td>\n",
       "      <td>Anurag Kashyap</td>\n",
       "      <td>7.9</td>\n",
       "    </tr>\n",
       "    <tr>\n",
       "      <th>196</th>\n",
       "      <td>The Music Room</td>\n",
       "      <td>Satyajit Ray</td>\n",
       "      <td>7.9</td>\n",
       "    </tr>\n",
       "    <tr>\n",
       "      <th>226</th>\n",
       "      <td>Vettaiyaadu Vilaiyaadu</td>\n",
       "      <td>Gautham Vasudev Menon</td>\n",
       "      <td>7.9</td>\n",
       "    </tr>\n",
       "    <tr>\n",
       "      <th>237</th>\n",
       "      <td>Nayak: The Real Hero</td>\n",
       "      <td>S. Shankar</td>\n",
       "      <td>7.8</td>\n",
       "    </tr>\n",
       "  </tbody>\n",
       "</table>\n",
       "</div>"
      ],
      "text/plain": [
       "                   Movie name               Director  Rating\n",
       "3                     Nayakan            Mani Ratnam     8.7\n",
       "32                 Thalapathi            Mani Ratnam     8.5\n",
       "63                  Mudhalvan             S. Shankar     8.4\n",
       "7                    3 Idiots        Rajkumar Hirani     8.4\n",
       "9                Black Friday         Anurag Kashyap     8.4\n",
       "24                 Visaaranai            Vetrimaaran     8.4\n",
       "25                 Drishyam 2          Jeethu Joseph     8.4\n",
       "26                     Kaithi       Lokesh Kanagaraj     8.4\n",
       "30                     Asuran            Vetrimaaran     8.4\n",
       "4            The World of Apu           Satyajit Ray     8.4\n",
       "41               Vada Chennai            Vetrimaaran     8.4\n",
       "74                  Papanasam          Jeethu Joseph     8.4\n",
       "60                     Iruvar            Mani Ratnam     8.4\n",
       "135        Viduthalai: Part 1            Vetrimaaran     8.3\n",
       "124             Alai Payuthey            Mani Ratnam     8.3\n",
       "88                     Vikram       Lokesh Kanagaraj     8.3\n",
       "65      Kannathil Muthamittal            Mani Ratnam     8.3\n",
       "35                    Anniyan             S. Shankar     8.3\n",
       "34                   Drishyam          Jeethu Joseph     8.3\n",
       "51         Gangs of Wasseypur         Anurag Kashyap     8.2\n",
       "43            Pather Panchali           Satyajit Ray     8.2\n",
       "38                  Aparajito           Satyajit Ray     8.2\n",
       "144          Vaaranam Aayiram  Gautham Vasudev Menon     8.2\n",
       "161                Maanagaram       Lokesh Kanagaraj     8.1\n",
       "130                    Bombay            Mani Ratnam     8.1\n",
       "194  Vinnaithaandi Varuvaayaa  Gautham Vasudev Menon     8.1\n",
       "134                    Indian             S. Shankar     8.1\n",
       "155                 Aadukalam            Vetrimaaran     8.1\n",
       "68        Munna Bhai M.B.B.S.        Rajkumar Hirani     8.1\n",
       "125                      Roja            Mani Ratnam     8.1\n",
       "120                 Charulata           Satyajit Ray     8.1\n",
       "84                         PK        Rajkumar Hirani     8.1\n",
       "216                  Memories          Jeethu Joseph     8.0\n",
       "186               The Brawler         Anurag Kashyap     8.0\n",
       "227             Kaakha Kaakha  Gautham Vasudev Menon     8.0\n",
       "114      Lage Raho Munna Bhai        Rajkumar Hirani     8.0\n",
       "148                    Haider        Vishal Bhardwaj     8.0\n",
       "146                    Gulaal         Anurag Kashyap     8.0\n",
       "140                   Maqbool        Vishal Bhardwaj     8.0\n",
       "129                    Omkara        Vishal Bhardwaj     8.0\n",
       "163                      Ugly         Anurag Kashyap     7.9\n",
       "184                     Dev.D         Anurag Kashyap     7.9\n",
       "196            The Music Room           Satyajit Ray     7.9\n",
       "226    Vettaiyaadu Vilaiyaadu  Gautham Vasudev Menon     7.9\n",
       "237      Nayak: The Real Hero             S. Shankar     7.8"
      ]
     },
     "execution_count": 63,
     "metadata": {},
     "output_type": "execute_result"
    }
   ],
   "source": [
    "top_directors = file['Director'].value_counts().head(10)\n",
    "top_directors\n",
    "\n",
    "top_directors_movies = file[file['Director'].isin(top_directors.index)].sort_values(by='Rating', ascending=False)\n",
    "top_directors_movies[['Movie name', 'Director', 'Rating']]\n"
   ]
  },
  {
   "cell_type": "code",
   "execution_count": 77,
   "id": "0594015b",
   "metadata": {},
   "outputs": [
    {
     "data": {
      "image/png": "[encoded data removed]",
      "text/plain": [
       "<Figure size 576x432 with 2 Axes>"
      ]
     },
     "metadata": {
      "needs_background": "light"
     },
     "output_type": "display_data"
    }
   ],
   "source": [
    "correlation_matrix = file[['Rating', 'User reviews', 'Box office collection', 'Ratedby']].corr()\n",
    "correlation_matrix\n",
    "plt.figure(figsize=(8, 6))\n",
    "sns.heatmap(correlation_matrix, annot=True, cmap='coolwarm', linewidths=0.5)\n",
    "plt.title('Correlation Matrix')\n",
    "plt.show()\n"
   ]
  },
  {
   "cell_type": "code",
   "execution_count": 71,
   "id": "1145658c",
   "metadata": {},
   "outputs": [
    {
     "data": {
      "image/png": "[encoded data removed]",
      "text/plain": [
       "<Figure size 720x1440 with 1 Axes>"
      ]
     },
     "metadata": {},
     "output_type": "display_data"
    }
   ],
   "source": [
    "platform_distribution = file['Streaming platform'].value_counts().plot(kind='pie', autopct='%1.1f%%', figsize=(10, 20), title='Distribution of Movies by Streaming Platforms')\n",
    "plt.ylabel('')\n",
    "plt.show()"
   ]
  },
  {
   "cell_type": "code",
   "execution_count": 100,
   "id": "5e401594",
   "metadata": {},
   "outputs": [
    {
     "data": {
      "application/vnd.plotly.v1+json": {
       "config": {
        "plotlyServerURL": "https://plot.ly"
       },
       "data": [
        {
         "hovertemplate": "Film Industry=%{x}<br>Rating=%{y}<extra></extra>",
         "legendgroup": "Marathi Cinema",
         "marker": {
          "color": "#636efa",
          "size": 20,
          "symbol": "circle"
         },
         "mode": "markers",
         "name": "Marathi Cinema",
         "orientation": "v",
         "showlegend": true,
         "type": "scatter",
         "x": [
          "Marathi Cinema"
         ],
         "xaxis": "x",
         "y": [
          8.55
         ],
         "yaxis": "y"
        },
        {
         "hovertemplate": "Film Industry=%{x}<br>Rating=%{y}<extra></extra>",
         "legendgroup": "South Korean Cinema",
         "marker": {
          "color": "#EF553B",
          "size": 20,
          "symbol": "circle"
         },
         "mode": "markers",
         "name": "South Korean Cinema",
         "orientation": "v",
         "showlegend": true,
         "type": "scatter",
         "x": [
          "South Korean Cinema"
         ],
         "xaxis": "x",
         "y": [
          8.3
         ],
         "yaxis": "y"
        },
        {
         "hovertemplate": "Film Industry=%{x}<br>Rating=%{y}<extra></extra>",
         "legendgroup": "Kollywood (Tamil)",
         "marker": {
          "color": "#00cc96",
          "size": 20,
          "symbol": "circle"
         },
         "mode": "markers",
         "name": "Kollywood (Tamil)",
         "orientation": "v",
         "showlegend": true,
         "type": "scatter",
         "x": [
          "Kollywood (Tamil)"
         ],
         "xaxis": "x",
         "y": [
          8.2875
         ],
         "yaxis": "y"
        },
        {
         "hovertemplate": "Film Industry=%{x}<br>Rating=%{y}<extra></extra>",
         "legendgroup": "Mollywood (Malayalam)",
         "marker": {
          "color": "#ab63fa",
          "size": 20,
          "symbol": "circle"
         },
         "mode": "markers",
         "name": "Mollywood (Malayalam)",
         "orientation": "v",
         "showlegend": true,
         "type": "scatter",
         "x": [
          "Mollywood (Malayalam)"
         ],
         "xaxis": "x",
         "y": [
          8.278947368421052
         ],
         "yaxis": "y"
        },
        {
         "hovertemplate": "Film Industry=%{x}<br>Rating=%{y}<extra></extra>",
         "legendgroup": "Sandalwood (Kannada)",
         "marker": {
          "color": "#FFA15A",
          "size": 20,
          "symbol": "circle"
         },
         "mode": "markers",
         "name": "Sandalwood (Kannada)",
         "orientation": "v",
         "showlegend": true,
         "type": "scatter",
         "x": [
          "Sandalwood (Kannada)"
         ],
         "xaxis": "x",
         "y": [
          8.27
         ],
         "yaxis": "y"
        },
        {
         "hovertemplate": "Film Industry=%{x}<br>Rating=%{y}<extra></extra>",
         "legendgroup": "Tollywood (Telugu)",
         "marker": {
          "color": "#19d3f3",
          "size": 20,
          "symbol": "circle"
         },
         "mode": "markers",
         "name": "Tollywood (Telugu)",
         "orientation": "v",
         "showlegend": true,
         "type": "scatter",
         "x": [
          "Tollywood (Telugu)"
         ],
         "xaxis": "x",
         "y": [
          8.23076923076923
         ],
         "yaxis": "y"
        },
        {
         "hovertemplate": "Film Industry=%{x}<br>Rating=%{y}<extra></extra>",
         "legendgroup": "Bengali Cinema",
         "marker": {
          "color": "#FF6692",
          "size": 20,
          "symbol": "circle"
         },
         "mode": "markers",
         "name": "Bengali Cinema",
         "orientation": "v",
         "showlegend": true,
         "type": "scatter",
         "x": [
          "Bengali Cinema"
         ],
         "xaxis": "x",
         "y": [
          8.15
         ],
         "yaxis": "y"
        },
        {
         "hovertemplate": "Film Industry=%{x}<br>Rating=%{y}<extra></extra>",
         "legendgroup": "Bollywood (Hindi)",
         "marker": {
          "color": "#B6E880",
          "size": 20,
          "symbol": "circle"
         },
         "mode": "markers",
         "name": "Bollywood (Hindi)",
         "orientation": "v",
         "showlegend": true,
         "type": "scatter",
         "x": [
          "Bollywood (Hindi)"
         ],
         "xaxis": "x",
         "y": [
          8.074509803921568
         ],
         "yaxis": "y"
        },
        {
         "hovertemplate": "Film Industry=%{x}<br>Rating=%{y}<extra></extra>",
         "legendgroup": "Hollywood (English)",
         "marker": {
          "color": "#FF97FF",
          "size": 20,
          "symbol": "circle"
         },
         "mode": "markers",
         "name": "Hollywood (English)",
         "orientation": "v",
         "showlegend": true,
         "type": "scatter",
         "x": [
          "Hollywood (English)"
         ],
         "xaxis": "x",
         "y": [
          8
         ],
         "yaxis": "y"
        }
       ],
       "layout": {
        "height": 500,
        "legend": {
         "title": {
          "text": "Film Industry"
         },
         "tracegroupgap": 0
        },
        "template": {
         "data": {
          "bar": [
           {
            "error_x": {
             "color": "#f2f5fa"
            },
            "error_y": {
             "color": "#f2f5fa"
            },
            "marker": {
             "line": {
              "color": "rgb(17,17,17)",
              "width": 0.5
             },
             "pattern": {
              "fillmode": "overlay",
              "size": 10,
              "solidity": 0.2
             }
            },
            "type": "bar"
           }
          ],
          "barpolar": [
           {
            "marker": {
             "line": {
              "color": "rgb(17,17,17)",
              "width": 0.5
             },
             "pattern": {
              "fillmode": "overlay",
              "size": 10,
              "solidity": 0.2
             }
            },
            "type": "barpolar"
           }
          ],
          "carpet": [
           {
            "aaxis": {
             "endlinecolor": "#A2B1C6",
             "gridcolor": "#506784",
             "linecolor": "#506784",
             "minorgridcolor": "#506784",
             "startlinecolor": "#A2B1C6"
            },
            "baxis": {
             "endlinecolor": "#A2B1C6",
             "gridcolor": "#506784",
             "linecolor": "#506784",
             "minorgridcolor": "#506784",
             "startlinecolor": "#A2B1C6"
            },
            "type": "carpet"
           }
          ],
          "choropleth": [
           {
            "colorbar": {
             "outlinewidth": 0,
             "ticks": ""
            },
            "type": "choropleth"
           }
          ],
          "contour": [
           {
            "colorbar": {
             "outlinewidth": 0,
             "ticks": ""
            },
            "colorscale": [
             [
              0,
              "#0d0887"
             ],
             [
              0.1111111111111111,
              "#46039f"
             ],
             [
              0.2222222222222222,
              "#7201a8"
             ],
             [
              0.3333333333333333,
              "#9c179e"
             ],
             [
              0.4444444444444444,
              "#bd3786"
             ],
             [
              0.5555555555555556,
              "#d8576b"
             ],
             [
              0.6666666666666666,
              "#ed7953"
             ],
             [
              0.7777777777777778,
              "#fb9f3a"
             ],
             [
              0.8888888888888888,
              "#fdca26"
             ],
             [
              1,
              "#f0f921"
             ]
            ],
            "type": "contour"
           }
          ],
          "contourcarpet": [
           {
            "colorbar": {
             "outlinewidth": 0,
             "ticks": ""
            },
            "type": "contourcarpet"
           }
          ],
          "heatmap": [
           {
            "colorbar": {
             "outlinewidth": 0,
             "ticks": ""
            },
            "colorscale": [
             [
              0,
              "#0d0887"
             ],
             [
              0.1111111111111111,
              "#46039f"
             ],
             [
              0.2222222222222222,
              "#7201a8"
             ],
             [
              0.3333333333333333,
              "#9c179e"
             ],
             [
              0.4444444444444444,
              "#bd3786"
             ],
             [
              0.5555555555555556,
              "#d8576b"
             ],
             [
              0.6666666666666666,
              "#ed7953"
             ],
             [
              0.7777777777777778,
              "#fb9f3a"
             ],
             [
              0.8888888888888888,
              "#fdca26"
             ],
             [
              1,
              "#f0f921"
             ]
            ],
            "type": "heatmap"
           }
          ],
          "heatmapgl": [
           {
            "colorbar": {
             "outlinewidth": 0,
             "ticks": ""
            },
            "colorscale": [
             [
              0,
              "#0d0887"
             ],
             [
              0.1111111111111111,
              "#46039f"
             ],
             [
              0.2222222222222222,
              "#7201a8"
             ],
             [
              0.3333333333333333,
              "#9c179e"
             ],
             [
              0.4444444444444444,
              "#bd3786"
             ],
             [
              0.5555555555555556,
              "#d8576b"
             ],
             [
              0.6666666666666666,
              "#ed7953"
             ],
             [
              0.7777777777777778,
              "#fb9f3a"
             ],
             [
              0.8888888888888888,
              "#fdca26"
             ],
             [
              1,
              "#f0f921"
             ]
            ],
            "type": "heatmapgl"
           }
          ],
          "histogram": [
           {
            "marker": {
             "pattern": {
              "fillmode": "overlay",
              "size": 10,
              "solidity": 0.2
             }
            },
            "type": "histogram"
           }
          ],
          "histogram2d": [
           {
            "colorbar": {
             "outlinewidth": 0,
             "ticks": ""
            },
            "colorscale": [
             [
              0,
              "#0d0887"
             ],
             [
              0.1111111111111111,
              "#46039f"
             ],
             [
              0.2222222222222222,
              "#7201a8"
             ],
             [
              0.3333333333333333,
              "#9c179e"
             ],
             [
              0.4444444444444444,
              "#bd3786"
             ],
             [
              0.5555555555555556,
              "#d8576b"
             ],
             [
              0.6666666666666666,
              "#ed7953"
             ],
             [
              0.7777777777777778,
              "#fb9f3a"
             ],
             [
              0.8888888888888888,
              "#fdca26"
             ],
             [
              1,
              "#f0f921"
             ]
            ],
            "type": "histogram2d"
           }
          ],
          "histogram2dcontour": [
           {
            "colorbar": {
             "outlinewidth": 0,
             "ticks": ""
            },
            "colorscale": [
             [
              0,
              "#0d0887"
             ],
             [
              0.1111111111111111,
              "#46039f"
             ],
             [
              0.2222222222222222,
              "#7201a8"
             ],
             [
              0.3333333333333333,
              "#9c179e"
             ],
             [
              0.4444444444444444,
              "#bd3786"
             ],
             [
              0.5555555555555556,
              "#d8576b"
             ],
             [
              0.6666666666666666,
              "#ed7953"
             ],
             [
              0.7777777777777778,
              "#fb9f3a"
             ],
             [
              0.8888888888888888,
              "#fdca26"
             ],
             [
              1,
              "#f0f921"
             ]
            ],
            "type": "histogram2dcontour"
           }
          ],
          "mesh3d": [
           {
            "colorbar": {
             "outlinewidth": 0,
             "ticks": ""
            },
            "type": "mesh3d"
           }
          ],
          "parcoords": [
           {
            "line": {
             "colorbar": {
              "outlinewidth": 0,
              "ticks": ""
             }
            },
            "type": "parcoords"
           }
          ],
          "pie": [
           {
            "automargin": true,
            "type": "pie"
           }
          ],
          "scatter": [
           {
            "marker": {
             "line": {
              "color": "#283442"
             }
            },
            "type": "scatter"
           }
          ],
          "scatter3d": [
           {
            "line": {
             "colorbar": {
              "outlinewidth": 0,
              "ticks": ""
             }
            },
            "marker": {
             "colorbar": {
              "outlinewidth": 0,
              "ticks": ""
             }
            },
            "type": "scatter3d"
           }
          ],
          "scattercarpet": [
           {
            "marker": {
             "colorbar": {
              "outlinewidth": 0,
              "ticks": ""
             }
            },
            "type": "scattercarpet"
           }
          ],
          "scattergeo": [
           {
            "marker": {
             "colorbar": {
              "outlinewidth": 0,
              "ticks": ""
             }
            },
            "type": "scattergeo"
           }
          ],
          "scattergl": [
           {
            "marker": {
             "line": {
              "color": "#283442"
             }
            },
            "type": "scattergl"
           }
          ],
          "scattermapbox": [
           {
            "marker": {
             "colorbar": {
              "outlinewidth": 0,
              "ticks": ""
             }
            },
            "type": "scattermapbox"
           }
          ],
          "scatterpolar": [
           {
            "marker": {
             "colorbar": {
              "outlinewidth": 0,
              "ticks": ""
             }
            },
            "type": "scatterpolar"
           }
          ],
          "scatterpolargl": [
           {
            "marker": {
             "colorbar": {
              "outlinewidth": 0,
              "ticks": ""
             }
            },
            "type": "scatterpolargl"
           }
          ],
          "scatterternary": [
           {
            "marker": {
             "colorbar": {
              "outlinewidth": 0,
              "ticks": ""
             }
            },
            "type": "scatterternary"
           }
          ],
          "surface": [
           {
            "colorbar": {
             "outlinewidth": 0,
             "ticks": ""
            },
            "colorscale": [
             [
              0,
              "#0d0887"
             ],
             [
              0.1111111111111111,
              "#46039f"
             ],
             [
              0.2222222222222222,
              "#7201a8"
             ],
             [
              0.3333333333333333,
              "#9c179e"
             ],
             [
              0.4444444444444444,
              "#bd3786"
             ],
             [
              0.5555555555555556,
              "#d8576b"
             ],
             [
              0.6666666666666666,
              "#ed7953"
             ],
             [
              0.7777777777777778,
              "#fb9f3a"
             ],
             [
              0.8888888888888888,
              "#fdca26"
             ],
             [
              1,
              "#f0f921"
             ]
            ],
            "type": "surface"
           }
          ],
          "table": [
           {
            "cells": {
             "fill": {
              "color": "#506784"
             },
             "line": {
              "color": "rgb(17,17,17)"
             }
            },
            "header": {
             "fill": {
              "color": "#2a3f5f"
             },
             "line": {
              "color": "rgb(17,17,17)"
             }
            },
            "type": "table"
           }
          ]
         },
         "layout": {
          "annotationdefaults": {
           "arrowcolor": "#f2f5fa",
           "arrowhead": 0,
           "arrowwidth": 1
          },
          "autotypenumbers": "strict",
          "coloraxis": {
           "colorbar": {
            "outlinewidth": 0,
            "ticks": ""
           }
          },
          "colorscale": {
           "diverging": [
            [
             0,
             "#8e0152"
            ],
            [
             0.1,
             "#c51b7d"
            ],
            [
             0.2,
             "#de77ae"
            ],
            [
             0.3,
             "#f1b6da"
            ],
            [
             0.4,
             "#fde0ef"
            ],
            [
             0.5,
             "#f7f7f7"
            ],
            [
             0.6,
             "#e6f5d0"
            ],
            [
             0.7,
             "#b8e186"
            ],
            [
             0.8,
             "#7fbc41"
            ],
            [
             0.9,
             "#4d9221"
            ],
            [
             1,
             "#276419"
            ]
           ],
           "sequential": [
            [
             0,
             "#0d0887"
            ],
            [
             0.1111111111111111,
             "#46039f"
            ],
            [
             0.2222222222222222,
             "#7201a8"
            ],
            [
             0.3333333333333333,
             "#9c179e"
            ],
            [
             0.4444444444444444,
             "#bd3786"
            ],
            [
             0.5555555555555556,
             "#d8576b"
            ],
            [
             0.6666666666666666,
             "#ed7953"
            ],
            [
             0.7777777777777778,
             "#fb9f3a"
            ],
            [
             0.8888888888888888,
             "#fdca26"
            ],
            [
             1,
             "#f0f921"
            ]
           ],
           "sequentialminus": [
            [
             0,
             "#0d0887"
            ],
            [
             0.1111111111111111,
             "#46039f"
            ],
            [
             0.2222222222222222,
             "#7201a8"
            ],
            [
             0.3333333333333333,
             "#9c179e"
            ],
            [
             0.4444444444444444,
             "#bd3786"
            ],
            [
             0.5555555555555556,
             "#d8576b"
            ],
            [
             0.6666666666666666,
             "#ed7953"
            ],
            [
             0.7777777777777778,
             "#fb9f3a"
            ],
            [
             0.8888888888888888,
             "#fdca26"
            ],
            [
             1,
             "#f0f921"
            ]
           ]
          },
          "colorway": [
           "#636efa",
           "#EF553B",
           "#00cc96",
           "#ab63fa",
           "#FFA15A",
           "#19d3f3",
           "#FF6692",
           "#B6E880",
           "#FF97FF",
           "#FECB52"
          ],
          "font": {
           "color": "#f2f5fa"
          },
          "geo": {
           "bgcolor": "rgb(17,17,17)",
           "lakecolor": "rgb(17,17,17)",
           "landcolor": "rgb(17,17,17)",
           "showlakes": true,
           "showland": true,
           "subunitcolor": "#506784"
          },
          "hoverlabel": {
           "align": "left"
          },
          "hovermode": "closest",
          "mapbox": {
           "style": "dark"
          },
          "paper_bgcolor": "rgb(17,17,17)",
          "plot_bgcolor": "rgb(17,17,17)",
          "polar": {
           "angularaxis": {
            "gridcolor": "#506784",
            "linecolor": "#506784",
            "ticks": ""
           },
           "bgcolor": "rgb(17,17,17)",
           "radialaxis": {
            "gridcolor": "#506784",
            "linecolor": "#506784",
            "ticks": ""
           }
          },
          "scene": {
           "xaxis": {
            "backgroundcolor": "rgb(17,17,17)",
            "gridcolor": "#506784",
            "gridwidth": 2,
            "linecolor": "#506784",
            "showbackground": true,
            "ticks": "",
            "zerolinecolor": "#C8D4E3"
           },
           "yaxis": {
            "backgroundcolor": "rgb(17,17,17)",
            "gridcolor": "#506784",
            "gridwidth": 2,
            "linecolor": "#506784",
            "showbackground": true,
            "ticks": "",
            "zerolinecolor": "#C8D4E3"
           },
           "zaxis": {
            "backgroundcolor": "rgb(17,17,17)",
            "gridcolor": "#506784",
            "gridwidth": 2,
            "linecolor": "#506784",
            "showbackground": true,
            "ticks": "",
            "zerolinecolor": "#C8D4E3"
           }
          },
          "shapedefaults": {
           "line": {
            "color": "#f2f5fa"
           }
          },
          "sliderdefaults": {
           "bgcolor": "#C8D4E3",
           "bordercolor": "rgb(17,17,17)",
           "borderwidth": 1,
           "tickwidth": 0
          },
          "ternary": {
           "aaxis": {
            "gridcolor": "#506784",
            "linecolor": "#506784",
            "ticks": ""
           },
           "baxis": {
            "gridcolor": "#506784",
            "linecolor": "#506784",
            "ticks": ""
           },
           "bgcolor": "rgb(17,17,17)",
           "caxis": {
            "gridcolor": "#506784",
            "linecolor": "#506784",
            "ticks": ""
           }
          },
          "title": {
           "x": 0.05
          },
          "updatemenudefaults": {
           "bgcolor": "#506784",
           "borderwidth": 0
          },
          "xaxis": {
           "automargin": true,
           "gridcolor": "#283442",
           "linecolor": "#506784",
           "ticks": "",
           "title": {
            "standoff": 15
           },
           "zerolinecolor": "#283442",
           "zerolinewidth": 2
          },
          "yaxis": {
           "automargin": true,
           "gridcolor": "#283442",
           "linecolor": "#506784",
           "ticks": "",
           "title": {
            "standoff": 15
           },
           "zerolinecolor": "#283442",
           "zerolinewidth": 2
          }
         }
        },
        "title": {
         "text": "Avg Ratings by Film Industry"
        },
        "width": 800,
        "xaxis": {
         "anchor": "y",
         "categoryarray": [
          "Marathi Cinema",
          "South Korean Cinema",
          "Kollywood (Tamil)",
          "Mollywood (Malayalam)",
          "Sandalwood (Kannada)",
          "Tollywood (Telugu)",
          "Bengali Cinema",
          "Bollywood (Hindi)",
          "Hollywood (English)"
         ],
         "categoryorder": "array",
         "domain": [
          0,
          1
         ],
         "title": {
          "text": "Film Industry"
         }
        },
        "yaxis": {
         "anchor": "x",
         "domain": [
          0,
          1
         ],
         "title": {
          "text": "Rating"
         }
        }
       }
      },
      "text/html": [
       "<div>                            <div id=\"accf977c-2103-45f2-bd79-b55150f21055\" class=\"plotly-graph-div\" style=\"height:500px; width:800px;\"></div>            <script type=\"text/javascript\">                require([\"plotly\"], function(Plotly) {                    window.PLOTLYENV=window.PLOTLYENV || {};                                    if (document.getElementById(\"accf977c-2103-45f2-bd79-b55150f21055\")) {                    Plotly.newPlot(                        \"accf977c-2103-45f2-bd79-b55150f21055\",                        [{\"hovertemplate\":\"Film Industry=%{x}\\u003cbr\\u003eRating=%{y}\\u003cextra\\u003e\\u003c\\u002fextra\\u003e\",\"legendgroup\":\"Marathi Cinema\",\"marker\":{\"color\":\"#636efa\",\"symbol\":\"circle\",\"size\":20},\"mode\":\"markers\",\"name\":\"Marathi Cinema\",\"orientation\":\"v\",\"showlegend\":true,\"x\":[\"Marathi Cinema\"],\"xaxis\":\"x\",\"y\":[8.55],\"yaxis\":\"y\",\"type\":\"scatter\"},{\"hovertemplate\":\"Film Industry=%{x}\\u003cbr\\u003eRating=%{y}\\u003cextra\\u003e\\u003c\\u002fextra\\u003e\",\"legendgroup\":\"South Korean Cinema\",\"marker\":{\"color\":\"#EF553B\",\"symbol\":\"circle\",\"size\":20},\"mode\":\"markers\",\"name\":\"South Korean Cinema\",\"orientation\":\"v\",\"showlegend\":true,\"x\":[\"South Korean Cinema\"],\"xaxis\":\"x\",\"y\":[8.3],\"yaxis\":\"y\",\"type\":\"scatter\"},{\"hovertemplate\":\"Film Industry=%{x}\\u003cbr\\u003eRating=%{y}\\u003cextra\\u003e\\u003c\\u002fextra\\u003e\",\"legendgroup\":\"Kollywood (Tamil)\",\"marker\":{\"color\":\"#00cc96\",\"symbol\":\"circle\",\"size\":20},\"mode\":\"markers\",\"name\":\"Kollywood (Tamil)\",\"orientation\":\"v\",\"showlegend\":true,\"x\":[\"Kollywood (Tamil)\"],\"xaxis\":\"x\",\"y\":[8.2875],\"yaxis\":\"y\",\"type\":\"scatter\"},{\"hovertemplate\":\"Film Industry=%{x}\\u003cbr\\u003eRating=%{y}\\u003cextra\\u003e\\u003c\\u002fextra\\u003e\",\"legendgroup\":\"Mollywood (Malayalam)\",\"marker\":{\"color\":\"#ab63fa\",\"symbol\":\"circle\",\"size\":20},\"mode\":\"markers\",\"name\":\"Mollywood (Malayalam)\",\"orientation\":\"v\",\"showlegend\":true,\"x\":[\"Mollywood (Malayalam)\"],\"xaxis\":\"x\",\"y\":[8.278947368421052],\"yaxis\":\"y\",\"type\":\"scatter\"},{\"hovertemplate\":\"Film Industry=%{x}\\u003cbr\\u003eRating=%{y}\\u003cextra\\u003e\\u003c\\u002fextra\\u003e\",\"legendgroup\":\"Sandalwood (Kannada)\",\"marker\":{\"color\":\"#FFA15A\",\"symbol\":\"circle\",\"size\":20},\"mode\":\"markers\",\"name\":\"Sandalwood (Kannada)\",\"orientation\":\"v\",\"showlegend\":true,\"x\":[\"Sandalwood (Kannada)\"],\"xaxis\":\"x\",\"y\":[8.27],\"yaxis\":\"y\",\"type\":\"scatter\"},{\"hovertemplate\":\"Film Industry=%{x}\\u003cbr\\u003eRating=%{y}\\u003cextra\\u003e\\u003c\\u002fextra\\u003e\",\"legendgroup\":\"Tollywood (Telugu)\",\"marker\":{\"color\":\"#19d3f3\",\"symbol\":\"circle\",\"size\":20},\"mode\":\"markers\",\"name\":\"Tollywood (Telugu)\",\"orientation\":\"v\",\"showlegend\":true,\"x\":[\"Tollywood (Telugu)\"],\"xaxis\":\"x\",\"y\":[8.23076923076923],\"yaxis\":\"y\",\"type\":\"scatter\"},{\"hovertemplate\":\"Film Industry=%{x}\\u003cbr\\u003eRating=%{y}\\u003cextra\\u003e\\u003c\\u002fextra\\u003e\",\"legendgroup\":\"Bengali Cinema\",\"marker\":{\"color\":\"#FF6692\",\"symbol\":\"circle\",\"size\":20},\"mode\":\"markers\",\"name\":\"Bengali Cinema\",\"orientation\":\"v\",\"showlegend\":true,\"x\":[\"Bengali Cinema\"],\"xaxis\":\"x\",\"y\":[8.15],\"yaxis\":\"y\",\"type\":\"scatter\"},{\"hovertemplate\":\"Film Industry=%{x}\\u003cbr\\u003eRating=%{y}\\u003cextra\\u003e\\u003c\\u002fextra\\u003e\",\"legendgroup\":\"Bollywood (Hindi)\",\"marker\":{\"color\":\"#B6E880\",\"symbol\":\"circle\",\"size\":20},\"mode\":\"markers\",\"name\":\"Bollywood (Hindi)\",\"orientation\":\"v\",\"showlegend\":true,\"x\":[\"Bollywood (Hindi)\"],\"xaxis\":\"x\",\"y\":[8.074509803921568],\"yaxis\":\"y\",\"type\":\"scatter\"},{\"hovertemplate\":\"Film Industry=%{x}\\u003cbr\\u003eRating=%{y}\\u003cextra\\u003e\\u003c\\u002fextra\\u003e\",\"legendgroup\":\"Hollywood (English)\",\"marker\":{\"color\":\"#FF97FF\",\"symbol\":\"circle\",\"size\":20},\"mode\":\"markers\",\"name\":\"Hollywood (English)\",\"orientation\":\"v\",\"showlegend\":true,\"x\":[\"Hollywood (English)\"],\"xaxis\":\"x\",\"y\":[8.0],\"yaxis\":\"y\",\"type\":\"scatter\"}],                        {\"template\":{\"data\":{\"histogram2dcontour\":[{\"type\":\"histogram2dcontour\",\"colorbar\":{\"outlinewidth\":0,\"ticks\":\"\"},\"colorscale\":[[0.0,\"#0d0887\"],[0.1111111111111111,\"#46039f\"],[0.2222222222222222,\"#7201a8\"],[0.3333333333333333,\"#9c179e\"],[0.4444444444444444,\"#bd3786\"],[0.5555555555555556,\"#d8576b\"],[0.6666666666666666,\"#ed7953\"],[0.7777777777777778,\"#fb9f3a\"],[0.8888888888888888,\"#fdca26\"],[1.0,\"#f0f921\"]]}],\"choropleth\":[{\"type\":\"choropleth\",\"colorbar\":{\"outlinewidth\":0,\"ticks\":\"\"}}],\"histogram2d\":[{\"type\":\"histogram2d\",\"colorbar\":{\"outlinewidth\":0,\"ticks\":\"\"},\"colorscale\":[[0.0,\"#0d0887\"],[0.1111111111111111,\"#46039f\"],[0.2222222222222222,\"#7201a8\"],[0.3333333333333333,\"#9c179e\"],[0.4444444444444444,\"#bd3786\"],[0.5555555555555556,\"#d8576b\"],[0.6666666666666666,\"#ed7953\"],[0.7777777777777778,\"#fb9f3a\"],[0.8888888888888888,\"#fdca26\"],[1.0,\"#f0f921\"]]}],\"heatmap\":[{\"type\":\"heatmap\",\"colorbar\":{\"outlinewidth\":0,\"ticks\":\"\"},\"colorscale\":[[0.0,\"#0d0887\"],[0.1111111111111111,\"#46039f\"],[0.2222222222222222,\"#7201a8\"],[0.3333333333333333,\"#9c179e\"],[0.4444444444444444,\"#bd3786\"],[0.5555555555555556,\"#d8576b\"],[0.6666666666666666,\"#ed7953\"],[0.7777777777777778,\"#fb9f3a\"],[0.8888888888888888,\"#fdca26\"],[1.0,\"#f0f921\"]]}],\"heatmapgl\":[{\"type\":\"heatmapgl\",\"colorbar\":{\"outlinewidth\":0,\"ticks\":\"\"},\"colorscale\":[[0.0,\"#0d0887\"],[0.1111111111111111,\"#46039f\"],[0.2222222222222222,\"#7201a8\"],[0.3333333333333333,\"#9c179e\"],[0.4444444444444444,\"#bd3786\"],[0.5555555555555556,\"#d8576b\"],[0.6666666666666666,\"#ed7953\"],[0.7777777777777778,\"#fb9f3a\"],[0.8888888888888888,\"#fdca26\"],[1.0,\"#f0f921\"]]}],\"contourcarpet\":[{\"type\":\"contourcarpet\",\"colorbar\":{\"outlinewidth\":0,\"ticks\":\"\"}}],\"contour\":[{\"type\":\"contour\",\"colorbar\":{\"outlinewidth\":0,\"ticks\":\"\"},\"colorscale\":[[0.0,\"#0d0887\"],[0.1111111111111111,\"#46039f\"],[0.2222222222222222,\"#7201a8\"],[0.3333333333333333,\"#9c179e\"],[0.4444444444444444,\"#bd3786\"],[0.5555555555555556,\"#d8576b\"],[0.6666666666666666,\"#ed7953\"],[0.7777777777777778,\"#fb9f3a\"],[0.8888888888888888,\"#fdca26\"],[1.0,\"#f0f921\"]]}],\"surface\":[{\"type\":\"surface\",\"colorbar\":{\"outlinewidth\":0,\"ticks\":\"\"},\"colorscale\":[[0.0,\"#0d0887\"],[0.1111111111111111,\"#46039f\"],[0.2222222222222222,\"#7201a8\"],[0.3333333333333333,\"#9c179e\"],[0.4444444444444444,\"#bd3786\"],[0.5555555555555556,\"#d8576b\"],[0.6666666666666666,\"#ed7953\"],[0.7777777777777778,\"#fb9f3a\"],[0.8888888888888888,\"#fdca26\"],[1.0,\"#f0f921\"]]}],\"mesh3d\":[{\"type\":\"mesh3d\",\"colorbar\":{\"outlinewidth\":0,\"ticks\":\"\"}}],\"scatter\":[{\"marker\":{\"line\":{\"color\":\"#283442\"}},\"type\":\"scatter\"}],\"parcoords\":[{\"type\":\"parcoords\",\"line\":{\"colorbar\":{\"outlinewidth\":0,\"ticks\":\"\"}}}],\"scatterpolargl\":[{\"type\":\"scatterpolargl\",\"marker\":{\"colorbar\":{\"outlinewidth\":0,\"ticks\":\"\"}}}],\"bar\":[{\"error_x\":{\"color\":\"#f2f5fa\"},\"error_y\":{\"color\":\"#f2f5fa\"},\"marker\":{\"line\":{\"color\":\"rgb(17,17,17)\",\"width\":0.5},\"pattern\":{\"fillmode\":\"overlay\",\"size\":10,\"solidity\":0.2}},\"type\":\"bar\"}],\"scattergeo\":[{\"type\":\"scattergeo\",\"marker\":{\"colorbar\":{\"outlinewidth\":0,\"ticks\":\"\"}}}],\"scatterpolar\":[{\"type\":\"scatterpolar\",\"marker\":{\"colorbar\":{\"outlinewidth\":0,\"ticks\":\"\"}}}],\"histogram\":[{\"marker\":{\"pattern\":{\"fillmode\":\"overlay\",\"size\":10,\"solidity\":0.2}},\"type\":\"histogram\"}],\"scattergl\":[{\"marker\":{\"line\":{\"color\":\"#283442\"}},\"type\":\"scattergl\"}],\"scatter3d\":[{\"type\":\"scatter3d\",\"line\":{\"colorbar\":{\"outlinewidth\":0,\"ticks\":\"\"}},\"marker\":{\"colorbar\":{\"outlinewidth\":0,\"ticks\":\"\"}}}],\"scattermapbox\":[{\"type\":\"scattermapbox\",\"marker\":{\"colorbar\":{\"outlinewidth\":0,\"ticks\":\"\"}}}],\"scatterternary\":[{\"type\":\"scatterternary\",\"marker\":{\"colorbar\":{\"outlinewidth\":0,\"ticks\":\"\"}}}],\"scattercarpet\":[{\"type\":\"scattercarpet\",\"marker\":{\"colorbar\":{\"outlinewidth\":0,\"ticks\":\"\"}}}],\"carpet\":[{\"aaxis\":{\"endlinecolor\":\"#A2B1C6\",\"gridcolor\":\"#506784\",\"linecolor\":\"#506784\",\"minorgridcolor\":\"#506784\",\"startlinecolor\":\"#A2B1C6\"},\"baxis\":{\"endlinecolor\":\"#A2B1C6\",\"gridcolor\":\"#506784\",\"linecolor\":\"#506784\",\"minorgridcolor\":\"#506784\",\"startlinecolor\":\"#A2B1C6\"},\"type\":\"carpet\"}],\"table\":[{\"cells\":{\"fill\":{\"color\":\"#506784\"},\"line\":{\"color\":\"rgb(17,17,17)\"}},\"header\":{\"fill\":{\"color\":\"#2a3f5f\"},\"line\":{\"color\":\"rgb(17,17,17)\"}},\"type\":\"table\"}],\"barpolar\":[{\"marker\":{\"line\":{\"color\":\"rgb(17,17,17)\",\"width\":0.5},\"pattern\":{\"fillmode\":\"overlay\",\"size\":10,\"solidity\":0.2}},\"type\":\"barpolar\"}],\"pie\":[{\"automargin\":true,\"type\":\"pie\"}]},\"layout\":{\"autotypenumbers\":\"strict\",\"colorway\":[\"#636efa\",\"#EF553B\",\"#00cc96\",\"#ab63fa\",\"#FFA15A\",\"#19d3f3\",\"#FF6692\",\"#B6E880\",\"#FF97FF\",\"#FECB52\"],\"font\":{\"color\":\"#f2f5fa\"},\"hovermode\":\"closest\",\"hoverlabel\":{\"align\":\"left\"},\"paper_bgcolor\":\"rgb(17,17,17)\",\"plot_bgcolor\":\"rgb(17,17,17)\",\"polar\":{\"bgcolor\":\"rgb(17,17,17)\",\"angularaxis\":{\"gridcolor\":\"#506784\",\"linecolor\":\"#506784\",\"ticks\":\"\"},\"radialaxis\":{\"gridcolor\":\"#506784\",\"linecolor\":\"#506784\",\"ticks\":\"\"}},\"ternary\":{\"bgcolor\":\"rgb(17,17,17)\",\"aaxis\":{\"gridcolor\":\"#506784\",\"linecolor\":\"#506784\",\"ticks\":\"\"},\"baxis\":{\"gridcolor\":\"#506784\",\"linecolor\":\"#506784\",\"ticks\":\"\"},\"caxis\":{\"gridcolor\":\"#506784\",\"linecolor\":\"#506784\",\"ticks\":\"\"}},\"coloraxis\":{\"colorbar\":{\"outlinewidth\":0,\"ticks\":\"\"}},\"colorscale\":{\"sequential\":[[0.0,\"#0d0887\"],[0.1111111111111111,\"#46039f\"],[0.2222222222222222,\"#7201a8\"],[0.3333333333333333,\"#9c179e\"],[0.4444444444444444,\"#bd3786\"],[0.5555555555555556,\"#d8576b\"],[0.6666666666666666,\"#ed7953\"],[0.7777777777777778,\"#fb9f3a\"],[0.8888888888888888,\"#fdca26\"],[1.0,\"#f0f921\"]],\"sequentialminus\":[[0.0,\"#0d0887\"],[0.1111111111111111,\"#46039f\"],[0.2222222222222222,\"#7201a8\"],[0.3333333333333333,\"#9c179e\"],[0.4444444444444444,\"#bd3786\"],[0.5555555555555556,\"#d8576b\"],[0.6666666666666666,\"#ed7953\"],[0.7777777777777778,\"#fb9f3a\"],[0.8888888888888888,\"#fdca26\"],[1.0,\"#f0f921\"]],\"diverging\":[[0,\"#8e0152\"],[0.1,\"#c51b7d\"],[0.2,\"#de77ae\"],[0.3,\"#f1b6da\"],[0.4,\"#fde0ef\"],[0.5,\"#f7f7f7\"],[0.6,\"#e6f5d0\"],[0.7,\"#b8e186\"],[0.8,\"#7fbc41\"],[0.9,\"#4d9221\"],[1,\"#276419\"]]},\"xaxis\":{\"gridcolor\":\"#283442\",\"linecolor\":\"#506784\",\"ticks\":\"\",\"title\":{\"standoff\":15},\"zerolinecolor\":\"#283442\",\"automargin\":true,\"zerolinewidth\":2},\"yaxis\":{\"gridcolor\":\"#283442\",\"linecolor\":\"#506784\",\"ticks\":\"\",\"title\":{\"standoff\":15},\"zerolinecolor\":\"#283442\",\"automargin\":true,\"zerolinewidth\":2},\"scene\":{\"xaxis\":{\"backgroundcolor\":\"rgb(17,17,17)\",\"gridcolor\":\"#506784\",\"linecolor\":\"#506784\",\"showbackground\":true,\"ticks\":\"\",\"zerolinecolor\":\"#C8D4E3\",\"gridwidth\":2},\"yaxis\":{\"backgroundcolor\":\"rgb(17,17,17)\",\"gridcolor\":\"#506784\",\"linecolor\":\"#506784\",\"showbackground\":true,\"ticks\":\"\",\"zerolinecolor\":\"#C8D4E3\",\"gridwidth\":2},\"zaxis\":{\"backgroundcolor\":\"rgb(17,17,17)\",\"gridcolor\":\"#506784\",\"linecolor\":\"#506784\",\"showbackground\":true,\"ticks\":\"\",\"zerolinecolor\":\"#C8D4E3\",\"gridwidth\":2}},\"shapedefaults\":{\"line\":{\"color\":\"#f2f5fa\"}},\"annotationdefaults\":{\"arrowcolor\":\"#f2f5fa\",\"arrowhead\":0,\"arrowwidth\":1},\"geo\":{\"bgcolor\":\"rgb(17,17,17)\",\"landcolor\":\"rgb(17,17,17)\",\"subunitcolor\":\"#506784\",\"showland\":true,\"showlakes\":true,\"lakecolor\":\"rgb(17,17,17)\"},\"title\":{\"x\":0.05},\"updatemenudefaults\":{\"bgcolor\":\"#506784\",\"borderwidth\":0},\"sliderdefaults\":{\"bgcolor\":\"#C8D4E3\",\"borderwidth\":1,\"bordercolor\":\"rgb(17,17,17)\",\"tickwidth\":0},\"mapbox\":{\"style\":\"dark\"}}},\"xaxis\":{\"anchor\":\"y\",\"domain\":[0.0,1.0],\"title\":{\"text\":\"Film Industry\"},\"categoryorder\":\"array\",\"categoryarray\":[\"Marathi Cinema\",\"South Korean Cinema\",\"Kollywood (Tamil)\",\"Mollywood (Malayalam)\",\"Sandalwood (Kannada)\",\"Tollywood (Telugu)\",\"Bengali Cinema\",\"Bollywood (Hindi)\",\"Hollywood (English)\"]},\"yaxis\":{\"anchor\":\"x\",\"domain\":[0.0,1.0],\"title\":{\"text\":\"Rating\"}},\"legend\":{\"title\":{\"text\":\"Film Industry\"},\"tracegroupgap\":0},\"title\":{\"text\":\"Avg Ratings by Film Industry\"},\"width\":800,\"height\":500},                        {\"responsive\": true}                    ).then(function(){\n",
       "                            \n",
       "var gd = document.getElementById('accf977c-2103-45f2-bd79-b55150f21055');\n",
       "var x = new MutationObserver(function (mutations, observer) {{\n",
       "        var display = window.getComputedStyle(gd).display;\n",
       "        if (!display || display === 'none') {{\n",
       "            console.log([gd, 'removed!']);\n",
       "            Plotly.purge(gd);\n",
       "            observer.disconnect();\n",
       "        }}\n",
       "}});\n",
       "\n",
       "// Listen for the removal of the full notebook cells\n",
       "var notebookContainer = gd.closest('#notebook-container');\n",
       "if (notebookContainer) {{\n",
       "    x.observe(notebookContainer, {childList: true});\n",
       "}}\n",
       "\n",
       "// Listen for the clearing of the current output cell\n",
       "var outputEl = gd.closest('.output');\n",
       "if (outputEl) {{\n",
       "    x.observe(outputEl, {childList: true});\n",
       "}}\n",
       "\n",
       "                        })                };                });            </script>        </div>"
      ]
     },
     "metadata": {},
     "output_type": "display_data"
    }
   ],
   "source": [
    "import plotly.graph_objects as go \n",
    "import plotly.io as pio\n",
    "import plotly.express as px\n",
    "\n",
    "file['Rating'] = pd.to_numeric(file['Rating'], errors='coerce')\n",
    "\n",
    "industry_avg_rating = file.groupby('Film Industry')['Rating'].mean().reset_index()\n",
    "\n",
    "industry_avg_rating = industry_avg_rating.sort_values(by='Rating', ascending=False)\n",
    "\n",
    "pio.templates.default = \"plotly_dark\"\n",
    "\n",
    "fig = px.scatter(industry_avg_rating,  x='Film Industry',y='Rating',color ='Film Industry',\n",
    "                 title='Avg Ratings by Film Industry')\n",
    "\n",
    "fig.update_layout(width=800, height=500)\n",
    "fig.update_traces(marker=dict(size=20))\n",
    "fig.show()"
   ]
  },
  {
   "cell_type": "code",
   "execution_count": 102,
   "id": "e8fef3bb",
   "metadata": {},
   "outputs": [
    {
     "data": {
      "application/vnd.plotly.v1+json": {
       "config": {
        "plotlyServerURL": "https://plot.ly"
       },
       "data": [
        {
         "hovertemplate": "Film Industry=%{x}<br>Box office collection=%{y}<extra></extra>",
         "legendgroup": "Bollywood (Hindi)",
         "marker": {
          "color": "#636efa",
          "symbol": "circle"
         },
         "mode": "markers",
         "name": "Bollywood (Hindi)",
         "orientation": "v",
         "showlegend": true,
         "type": "scatter",
         "x": [
          "Bollywood (Hindi)",
          "Bollywood (Hindi)",
          "Bollywood (Hindi)",
          "Bollywood (Hindi)",
          "Bollywood (Hindi)",
          "Bollywood (Hindi)",
          "Bollywood (Hindi)",
          "Bollywood (Hindi)",
          "Bollywood (Hindi)",
          "Bollywood (Hindi)",
          "Bollywood (Hindi)",
          "Bollywood (Hindi)",
          "Bollywood (Hindi)",
          "Bollywood (Hindi)",
          "Bollywood (Hindi)",
          "Bollywood (Hindi)",
          "Bollywood (Hindi)",
          "Bollywood (Hindi)",
          "Bollywood (Hindi)",
          "Bollywood (Hindi)",
          "Bollywood (Hindi)",
          "Bollywood (Hindi)",
          "Bollywood (Hindi)",
          "Bollywood (Hindi)",
          "Bollywood (Hindi)",
          "Bollywood (Hindi)",
          "Bollywood (Hindi)",
          "Bollywood (Hindi)",
          "Bollywood (Hindi)",
          "Bollywood (Hindi)",
          "Bollywood (Hindi)",
          "Bollywood (Hindi)",
          "Bollywood (Hindi)",
          "Bollywood (Hindi)",
          "Bollywood (Hindi)",
          "Bollywood (Hindi)",
          "Bollywood (Hindi)",
          "Bollywood (Hindi)",
          "Bollywood (Hindi)",
          "Bollywood (Hindi)",
          "Bollywood (Hindi)",
          "Bollywood (Hindi)",
          "Bollywood (Hindi)",
          "Bollywood (Hindi)",
          "Bollywood (Hindi)",
          "Bollywood (Hindi)",
          "Bollywood (Hindi)",
          "Bollywood (Hindi)",
          "Bollywood (Hindi)",
          "Bollywood (Hindi)",
          "Bollywood (Hindi)",
          "Bollywood (Hindi)",
          "Bollywood (Hindi)",
          "Bollywood (Hindi)",
          "Bollywood (Hindi)",
          "Bollywood (Hindi)",
          "Bollywood (Hindi)",
          "Bollywood (Hindi)",
          "Bollywood (Hindi)",
          "Bollywood (Hindi)",
          "Bollywood (Hindi)",
          "Bollywood (Hindi)",
          "Bollywood (Hindi)",
          "Bollywood (Hindi)",
          "Bollywood (Hindi)",
          "Bollywood (Hindi)",
          "Bollywood (Hindi)",
          "Bollywood (Hindi)",
          "Bollywood (Hindi)",
          "Bollywood (Hindi)",
          "Bollywood (Hindi)",
          "Bollywood (Hindi)",
          "Bollywood (Hindi)",
          "Bollywood (Hindi)",
          "Bollywood (Hindi)",
          "Bollywood (Hindi)",
          "Bollywood (Hindi)",
          "Bollywood (Hindi)",
          "Bollywood (Hindi)",
          "Bollywood (Hindi)",
          "Bollywood (Hindi)",
          "Bollywood (Hindi)",
          "Bollywood (Hindi)",
          "Bollywood (Hindi)",
          "Bollywood (Hindi)",
          "Bollywood (Hindi)",
          "Bollywood (Hindi)",
          "Bollywood (Hindi)",
          "Bollywood (Hindi)",
          "Bollywood (Hindi)",
          "Bollywood (Hindi)",
          "Bollywood (Hindi)",
          "Bollywood (Hindi)",
          "Bollywood (Hindi)",
          "Bollywood (Hindi)",
          "Bollywood (Hindi)",
          "Bollywood (Hindi)",
          "Bollywood (Hindi)",
          "Bollywood (Hindi)",
          "Bollywood (Hindi)",
          "Bollywood (Hindi)",
          "Bollywood (Hindi)"
         ],
         "xaxis": "x",
         "y": [
          "$138,288.00",
          " NIL",
          "$60,262,836.00",
          "$1,610,897.00",
          "$398,615.00",
          "$21,897,373.00",
          "$108,886.00",
          "$303,723,636.00",
          " NIL",
          "$40,194.00",
          " NIL",
          "$11,939.76",
          "$4,384,642.00",
          "$17,551,296.00",
          " NIL",
          " NIL",
          "$5,192,743.00",
          "$62,475,342.00",
          "$377,803.00",
          " NIL",
          "$3,137,716.00",
          "$1,953,889.00",
          "$3,311,391.00",
          "$1,691,980.00",
          "$40,311.00",
          " NIL",
          "$21,505,244.00",
          "$1,266,341.00",
          "$100,370,104.00",
          "$1,724,806.00",
          "$288,733.00",
          "$6,879,098.00",
          " NIL",
          " NIL",
          "$4,490,134.00",
          "$39,346,577.00",
          "$434,862.00",
          " NIL",
          "$734,514.00",
          "$12,140,087.00",
          "$502,391.00",
          "$459,234.00",
          "$651,748.00",
          "$17,897,527.00",
          " NIL",
          "$10,800,778.00",
          "$316,221.00",
          " NIL",
          "$3,256,911.00",
          "$121,126,188.00",
          "$180,180.00",
          "$16,466,144.00",
          " NIL",
          "$129,916.00",
          "$161,434.00",
          "$75,690.00",
          " NIL",
          "$647,074.00",
          "$2,364,294.00",
          " NIL",
          "$1,404,307.00",
          " NIL",
          "$81,367.00",
          " NIL",
          "$327.00",
          "$843,373.49",
          "$65,317.00",
          "$1,475,000.00",
          "$26,125,610.00",
          "$28,299,498.00",
          "$144,578.31",
          "$10,065,630.00",
          "$42,345,360.00",
          "$1,325,301.20",
          "$4,047,969.00",
          "$140,981.00",
          "$963,855.42",
          "$28,903,047.00",
          "$13,200,241.00",
          "$2,080,758.00",
          "$29,045,020.00",
          "$41,635,636.00",
          "$151,226.00",
          "$24,701,637.00",
          "$1,109,943.00",
          "$10,299,150.00",
          "$517,575.00",
          "$11,533,057.00",
          "$5,859,242.00",
          " NIL",
          "$11,621,785.00",
          "$1,875,477.00",
          "$3,614,457.83",
          "$9,323,484.00",
          "$371,226.00",
          "$1,241,102.00",
          " NIL",
          "$6,887,221.00",
          "$71,369.00",
          "$6,456,358.00",
          " NIL",
          " NIL"
         ],
         "yaxis": "y"
        },
        {
         "hovertemplate": "Film Industry=%{x}<br>Box office collection=%{y}<extra></extra>",
         "legendgroup": "Kollywood (Tamil)",
         "marker": {
          "color": "#EF553B",
          "symbol": "circle"
         },
         "mode": "markers",
         "name": "Kollywood (Tamil)",
         "orientation": "v",
         "showlegend": true,
         "type": "scatter",
         "x": [
          "Kollywood (Tamil)",
          "Kollywood (Tamil)",
          "Kollywood (Tamil)",
          "Kollywood (Tamil)",
          "Kollywood (Tamil)",
          "Kollywood (Tamil)",
          "Kollywood (Tamil)",
          "Kollywood (Tamil)",
          "Kollywood (Tamil)",
          "Kollywood (Tamil)",
          "Kollywood (Tamil)",
          "Kollywood (Tamil)",
          "Kollywood (Tamil)",
          "Kollywood (Tamil)",
          "Kollywood (Tamil)",
          "Kollywood (Tamil)",
          "Kollywood (Tamil)",
          "Kollywood (Tamil)",
          "Kollywood (Tamil)",
          "Kollywood (Tamil)",
          "Kollywood (Tamil)",
          "Kollywood (Tamil)",
          "Kollywood (Tamil)",
          "Kollywood (Tamil)",
          "Kollywood (Tamil)",
          "Kollywood (Tamil)",
          "Kollywood (Tamil)",
          "Kollywood (Tamil)",
          "Kollywood (Tamil)",
          "Kollywood (Tamil)",
          "Kollywood (Tamil)",
          "Kollywood (Tamil)",
          "Kollywood (Tamil)",
          "Kollywood (Tamil)",
          "Kollywood (Tamil)",
          "Kollywood (Tamil)",
          "Kollywood (Tamil)",
          "Kollywood (Tamil)",
          "Kollywood (Tamil)",
          "Kollywood (Tamil)",
          "Kollywood (Tamil)",
          "Kollywood (Tamil)",
          "Kollywood (Tamil)",
          "Kollywood (Tamil)",
          "Kollywood (Tamil)",
          "Kollywood (Tamil)",
          "Kollywood (Tamil)",
          "Kollywood (Tamil)",
          "Kollywood (Tamil)",
          "Kollywood (Tamil)",
          "Kollywood (Tamil)",
          "Kollywood (Tamil)",
          "Kollywood (Tamil)",
          "Kollywood (Tamil)",
          "Kollywood (Tamil)",
          "Kollywood (Tamil)",
          "Kollywood (Tamil)",
          "Kollywood (Tamil)",
          "Kollywood (Tamil)",
          "Kollywood (Tamil)",
          "Kollywood (Tamil)",
          "Kollywood (Tamil)",
          "Kollywood (Tamil)",
          "Kollywood (Tamil)"
         ],
         "xaxis": "x",
         "y": [
          "$975,543.00",
          "$120,481.93",
          " NIL",
          " NIL",
          "$1,807,228.92",
          "$616,333.00",
          "$1,943.00",
          "$522,938.00",
          " NIL",
          "$379,728.00",
          " NIL",
          " NIL",
          "$3,373,493.98",
          " NIL",
          "$472,865.00",
          "$2,409,638.55",
          " NIL",
          "$3,417.00",
          " NIL",
          "$273,191.00",
          "$6,024,096.39",
          " NIL",
          "$546,792.00",
          "$602,409.64",
          "$400,000.00",
          "$843,373.49",
          "$4,652.00",
          "$29,837,637.00",
          "$24,274.00",
          "$246,551.00",
          "$843,373.49",
          "$5,746,385.54",
          " NIL",
          "$238,484.00",
          "$3,012,048.19",
          "$963,855.42",
          "$4,216,867.47",
          " NIL",
          " NIL",
          "$118,072.29",
          "$184.00",
          "$5,880.00",
          "$5,301,204.82",
          "$96,878.00",
          "$921,007.00",
          "$7,664.00",
          "$4,997.00",
          "$96,385.54",
          "$1,204,819.28",
          "$565,759.00",
          "$846,407.00",
          "$366,674.00",
          "$350,534.00",
          "$292,732.00",
          "$180,722.89",
          "$279,408.00",
          "$274,675.00",
          "$3,817,585.00",
          "$158,787.00",
          "$7,888.00",
          "$602,409.64",
          "$6,024,096.39",
          "$2,130,470.00",
          "$163,961.00"
         ],
         "yaxis": "y"
        },
        {
         "hovertemplate": "Film Industry=%{x}<br>Box office collection=%{y}<extra></extra>",
         "legendgroup": "Bengali Cinema",
         "marker": {
          "color": "#00cc96",
          "symbol": "circle"
         },
         "mode": "markers",
         "name": "Bengali Cinema",
         "orientation": "v",
         "showlegend": true,
         "type": "scatter",
         "x": [
          "Bengali Cinema",
          "Bengali Cinema",
          "Bengali Cinema",
          "Bengali Cinema",
          "Bengali Cinema",
          "Bengali Cinema"
         ],
         "xaxis": "x",
         "y": [
          "$134,241.00",
          "$134,241.00",
          "$135,342.00",
          " NIL",
          " NIL",
          "$3,247.00"
         ],
         "yaxis": "y"
        },
        {
         "hovertemplate": "Film Industry=%{x}<br>Box office collection=%{y}<extra></extra>",
         "legendgroup": "Mollywood (Malayalam)",
         "marker": {
          "color": "#ab63fa",
          "symbol": "circle"
         },
         "mode": "markers",
         "name": "Mollywood (Malayalam)",
         "orientation": "v",
         "showlegend": true,
         "type": "scatter",
         "x": [
          "Mollywood (Malayalam)",
          "Mollywood (Malayalam)",
          "Mollywood (Malayalam)",
          "Mollywood (Malayalam)",
          "Mollywood (Malayalam)",
          "Mollywood (Malayalam)",
          "Mollywood (Malayalam)",
          "Mollywood (Malayalam)",
          "Mollywood (Malayalam)",
          "Mollywood (Malayalam)",
          "Mollywood (Malayalam)",
          "Mollywood (Malayalam)",
          "Mollywood (Malayalam)",
          "Mollywood (Malayalam)",
          "Mollywood (Malayalam)",
          "Mollywood (Malayalam)",
          "Mollywood (Malayalam)",
          "Mollywood (Malayalam)",
          "Mollywood (Malayalam)",
          "Mollywood (Malayalam)",
          "Mollywood (Malayalam)",
          "Mollywood (Malayalam)",
          "Mollywood (Malayalam)",
          "Mollywood (Malayalam)",
          "Mollywood (Malayalam)",
          "Mollywood (Malayalam)",
          "Mollywood (Malayalam)",
          "Mollywood (Malayalam)",
          "Mollywood (Malayalam)",
          "Mollywood (Malayalam)",
          "Mollywood (Malayalam)",
          "Mollywood (Malayalam)",
          "Mollywood (Malayalam)",
          "Mollywood (Malayalam)",
          "Mollywood (Malayalam)",
          "Mollywood (Malayalam)",
          "Mollywood (Malayalam)",
          "Mollywood (Malayalam)"
         ],
         "xaxis": "x",
         "y": [
          " NIL",
          "$843,373.49",
          "$1,312,005.00",
          "$181,001.00",
          " NIL",
          "$3,841.00",
          " NIL",
          "$13,076,265.00",
          "$180,217.00",
          "$7,228,915.66",
          " NIL",
          "$9,400,000.00",
          " NIL",
          "$62,313.00",
          "$586,973.00",
          "$3,784,106.00",
          "$3,135,150.00",
          "$2,973,347.00",
          "$22,361.00",
          "$4,547,765.00",
          "$2,178.00",
          " NIL",
          "$185,586.00",
          "$5,088,713.00",
          "$46,083.00",
          "$803,887.00",
          "$957.00",
          "$884,267.00",
          " NIL",
          "$1,740,483.00",
          "$10,230.00",
          " NIL",
          "$1,106,211.00",
          "$602,409.64",
          "$3,012,048.19",
          " NIL",
          "$661,915.00",
          "$44,990.00"
         ],
         "yaxis": "y"
        },
        {
         "hovertemplate": "Film Industry=%{x}<br>Box office collection=%{y}<extra></extra>",
         "legendgroup": "Sandalwood (Kannada)",
         "marker": {
          "color": "#FFA15A",
          "symbol": "circle"
         },
         "mode": "markers",
         "name": "Sandalwood (Kannada)",
         "orientation": "v",
         "showlegend": true,
         "type": "scatter",
         "x": [
          "Sandalwood (Kannada)",
          "Sandalwood (Kannada)",
          "Sandalwood (Kannada)",
          "Sandalwood (Kannada)",
          "Sandalwood (Kannada)",
          "Sandalwood (Kannada)",
          "Sandalwood (Kannada)",
          "Sandalwood (Kannada)",
          "Sandalwood (Kannada)",
          "Sandalwood (Kannada)"
         ],
         "xaxis": "x",
         "y": [
          "$7,523,995.00",
          "$61,445.78",
          "$6,421,597.00",
          "$37,253.00",
          "$2,406,221.00",
          "$253,012.05",
          "$120,481.93",
          "$89,123,940.00",
          "$12,195.00",
          "$5,138,042.00"
         ],
         "yaxis": "y"
        },
        {
         "hovertemplate": "Film Industry=%{x}<br>Box office collection=%{y}<extra></extra>",
         "legendgroup": "Tollywood (Telugu)",
         "marker": {
          "color": "#19d3f3",
          "symbol": "circle"
         },
         "mode": "markers",
         "name": "Tollywood (Telugu)",
         "orientation": "v",
         "showlegend": true,
         "type": "scatter",
         "x": [
          "Tollywood (Telugu)",
          "Tollywood (Telugu)",
          "Tollywood (Telugu)",
          "Tollywood (Telugu)",
          "Tollywood (Telugu)",
          "Tollywood (Telugu)",
          "Tollywood (Telugu)",
          "Tollywood (Telugu)",
          "Tollywood (Telugu)",
          "Tollywood (Telugu)",
          "Tollywood (Telugu)",
          "Tollywood (Telugu)",
          "Tollywood (Telugu)",
          "Tollywood (Telugu)",
          "Tollywood (Telugu)",
          "Tollywood (Telugu)",
          "Tollywood (Telugu)",
          "Tollywood (Telugu)",
          "Tollywood (Telugu)",
          "Tollywood (Telugu)",
          "Tollywood (Telugu)",
          "Tollywood (Telugu)",
          "Tollywood (Telugu)",
          "Tollywood (Telugu)",
          "Tollywood (Telugu)",
          "Tollywood (Telugu)"
         ],
         "xaxis": "x",
         "y": [
          " NIL",
          "$204,669.00",
          " NIL",
          "$2,208,029.00",
          " NIL",
          "$4,454.00",
          "$279,078.00",
          "$254,158,390.00",
          " NIL",
          "$36,144.58",
          "$90,361.45",
          "$551,820.00",
          "$210,780.00",
          " NIL",
          "$62,744.00",
          "$132,530.12",
          " NIL",
          "$4,961,424.00",
          "$24,548,038.00",
          "$145,522.00",
          "$7,124.00",
          "$93,651.00",
          "$1,566,265.06",
          "$11,764.00",
          "$28,369.00",
          "$361,445.78"
         ],
         "yaxis": "y"
        },
        {
         "hovertemplate": "Film Industry=%{x}<br>Box office collection=%{y}<extra></extra>",
         "legendgroup": "Marathi Cinema",
         "marker": {
          "color": "#FF6692",
          "symbol": "circle"
         },
         "mode": "markers",
         "name": "Marathi Cinema",
         "orientation": "v",
         "showlegend": true,
         "type": "scatter",
         "x": [
          "Marathi Cinema",
          "Marathi Cinema"
         ],
         "xaxis": "x",
         "y": [
          "$633.00",
          " NIL"
         ],
         "yaxis": "y"
        },
        {
         "hovertemplate": "Film Industry=%{x}<br>Box office collection=%{y}<extra></extra>",
         "legendgroup": "South Korean Cinema",
         "marker": {
          "color": "#B6E880",
          "symbol": "circle"
         },
         "mode": "markers",
         "name": "South Korean Cinema",
         "orientation": "v",
         "showlegend": true,
         "type": "scatter",
         "x": [
          "South Korean Cinema"
         ],
         "xaxis": "x",
         "y": [
          " NIL"
         ],
         "yaxis": "y"
        },
        {
         "hovertemplate": "Film Industry=%{x}<br>Box office collection=%{y}<extra></extra>",
         "legendgroup": "Hollywood (English)",
         "marker": {
          "color": "#FF97FF",
          "symbol": "circle"
         },
         "mode": "markers",
         "name": "Hollywood (English)",
         "orientation": "v",
         "showlegend": true,
         "type": "scatter",
         "x": [
          "Hollywood (English)"
         ],
         "xaxis": "x",
         "y": [
          "$140,853,810.00"
         ],
         "yaxis": "y"
        }
       ],
       "layout": {
        "legend": {
         "title": {
          "text": "Film Industry"
         },
         "tracegroupgap": 0
        },
        "template": {
         "data": {
          "bar": [
           {
            "error_x": {
             "color": "#f2f5fa"
            },
            "error_y": {
             "color": "#f2f5fa"
            },
            "marker": {
             "line": {
              "color": "rgb(17,17,17)",
              "width": 0.5
             },
             "pattern": {
              "fillmode": "overlay",
              "size": 10,
              "solidity": 0.2
             }
            },
            "type": "bar"
           }
          ],
          "barpolar": [
           {
            "marker": {
             "line": {
              "color": "rgb(17,17,17)",
              "width": 0.5
             },
             "pattern": {
              "fillmode": "overlay",
              "size": 10,
              "solidity": 0.2
             }
            },
            "type": "barpolar"
           }
          ],
          "carpet": [
           {
            "aaxis": {
             "endlinecolor": "#A2B1C6",
             "gridcolor": "#506784",
             "linecolor": "#506784",
             "minorgridcolor": "#506784",
             "startlinecolor": "#A2B1C6"
            },
            "baxis": {
             "endlinecolor": "#A2B1C6",
             "gridcolor": "#506784",
             "linecolor": "#506784",
             "minorgridcolor": "#506784",
             "startlinecolor": "#A2B1C6"
            },
            "type": "carpet"
           }
          ],
          "choropleth": [
           {
            "colorbar": {
             "outlinewidth": 0,
             "ticks": ""
            },
            "type": "choropleth"
           }
          ],
          "contour": [
           {
            "colorbar": {
             "outlinewidth": 0,
             "ticks": ""
            },
            "colorscale": [
             [
              0,
              "#0d0887"
             ],
             [
              0.1111111111111111,
              "#46039f"
             ],
             [
              0.2222222222222222,
              "#7201a8"
             ],
             [
              0.3333333333333333,
              "#9c179e"
             ],
             [
              0.4444444444444444,
              "#bd3786"
             ],
             [
              0.5555555555555556,
              "#d8576b"
             ],
             [
              0.6666666666666666,
              "#ed7953"
             ],
             [
              0.7777777777777778,
              "#fb9f3a"
             ],
             [
              0.8888888888888888,
              "#fdca26"
             ],
             [
              1,
              "#f0f921"
             ]
            ],
            "type": "contour"
           }
          ],
          "contourcarpet": [
           {
            "colorbar": {
             "outlinewidth": 0,
             "ticks": ""
            },
            "type": "contourcarpet"
           }
          ],
          "heatmap": [
           {
            "colorbar": {
             "outlinewidth": 0,
             "ticks": ""
            },
            "colorscale": [
             [
              0,
              "#0d0887"
             ],
             [
              0.1111111111111111,
              "#46039f"
             ],
             [
              0.2222222222222222,
              "#7201a8"
             ],
             [
              0.3333333333333333,
              "#9c179e"
             ],
             [
              0.4444444444444444,
              "#bd3786"
             ],
             [
              0.5555555555555556,
              "#d8576b"
             ],
             [
              0.6666666666666666,
              "#ed7953"
             ],
             [
              0.7777777777777778,
              "#fb9f3a"
             ],
             [
              0.8888888888888888,
              "#fdca26"
             ],
             [
              1,
              "#f0f921"
             ]
            ],
            "type": "heatmap"
           }
          ],
          "heatmapgl": [
           {
            "colorbar": {
             "outlinewidth": 0,
             "ticks": ""
            },
            "colorscale": [
             [
              0,
              "#0d0887"
             ],
             [
              0.1111111111111111,
              "#46039f"
             ],
             [
              0.2222222222222222,
              "#7201a8"
             ],
             [
              0.3333333333333333,
              "#9c179e"
             ],
             [
              0.4444444444444444,
              "#bd3786"
             ],
             [
              0.5555555555555556,
              "#d8576b"
             ],
             [
              0.6666666666666666,
              "#ed7953"
             ],
             [
              0.7777777777777778,
              "#fb9f3a"
             ],
             [
              0.8888888888888888,
              "#fdca26"
             ],
             [
              1,
              "#f0f921"
             ]
            ],
            "type": "heatmapgl"
           }
          ],
          "histogram": [
           {
            "marker": {
             "pattern": {
              "fillmode": "overlay",
              "size": 10,
              "solidity": 0.2
             }
            },
            "type": "histogram"
           }
          ],
          "histogram2d": [
           {
            "colorbar": {
             "outlinewidth": 0,
             "ticks": ""
            },
            "colorscale": [
             [
              0,
              "#0d0887"
             ],
             [
              0.1111111111111111,
              "#46039f"
             ],
             [
              0.2222222222222222,
              "#7201a8"
             ],
             [
              0.3333333333333333,
              "#9c179e"
             ],
             [
              0.4444444444444444,
              "#bd3786"
             ],
             [
              0.5555555555555556,
              "#d8576b"
             ],
             [
              0.6666666666666666,
              "#ed7953"
             ],
             [
              0.7777777777777778,
              "#fb9f3a"
             ],
             [
              0.8888888888888888,
              "#fdca26"
             ],
             [
              1,
              "#f0f921"
             ]
            ],
            "type": "histogram2d"
           }
          ],
          "histogram2dcontour": [
           {
            "colorbar": {
             "outlinewidth": 0,
             "ticks": ""
            },
            "colorscale": [
             [
              0,
              "#0d0887"
             ],
             [
              0.1111111111111111,
              "#46039f"
             ],
             [
              0.2222222222222222,
              "#7201a8"
             ],
             [
              0.3333333333333333,
              "#9c179e"
             ],
             [
              0.4444444444444444,
              "#bd3786"
             ],
             [
              0.5555555555555556,
              "#d8576b"
             ],
             [
              0.6666666666666666,
              "#ed7953"
             ],
             [
              0.7777777777777778,
              "#fb9f3a"
             ],
             [
              0.8888888888888888,
              "#fdca26"
             ],
             [
              1,
              "#f0f921"
             ]
            ],
            "type": "histogram2dcontour"
           }
          ],
          "mesh3d": [
           {
            "colorbar": {
             "outlinewidth": 0,
             "ticks": ""
            },
            "type": "mesh3d"
           }
          ],
          "parcoords": [
           {
            "line": {
             "colorbar": {
              "outlinewidth": 0,
              "ticks": ""
             }
            },
            "type": "parcoords"
           }
          ],
          "pie": [
           {
            "automargin": true,
            "type": "pie"
           }
          ],
          "scatter": [
           {
            "marker": {
             "line": {
              "color": "#283442"
             }
            },
            "type": "scatter"
           }
          ],
          "scatter3d": [
           {
            "line": {
             "colorbar": {
              "outlinewidth": 0,
              "ticks": ""
             }
            },
            "marker": {
             "colorbar": {
              "outlinewidth": 0,
              "ticks": ""
             }
            },
            "type": "scatter3d"
           }
          ],
          "scattercarpet": [
           {
            "marker": {
             "colorbar": {
              "outlinewidth": 0,
              "ticks": ""
             }
            },
            "type": "scattercarpet"
           }
          ],
          "scattergeo": [
           {
            "marker": {
             "colorbar": {
              "outlinewidth": 0,
              "ticks": ""
             }
            },
            "type": "scattergeo"
           }
          ],
          "scattergl": [
           {
            "marker": {
             "line": {
              "color": "#283442"
             }
            },
            "type": "scattergl"
           }
          ],
          "scattermapbox": [
           {
            "marker": {
             "colorbar": {
              "outlinewidth": 0,
              "ticks": ""
             }
            },
            "type": "scattermapbox"
           }
          ],
          "scatterpolar": [
           {
            "marker": {
             "colorbar": {
              "outlinewidth": 0,
              "ticks": ""
             }
            },
            "type": "scatterpolar"
           }
          ],
          "scatterpolargl": [
           {
            "marker": {
             "colorbar": {
              "outlinewidth": 0,
              "ticks": ""
             }
            },
            "type": "scatterpolargl"
           }
          ],
          "scatterternary": [
           {
            "marker": {
             "colorbar": {
              "outlinewidth": 0,
              "ticks": ""
             }
            },
            "type": "scatterternary"
           }
          ],
          "surface": [
           {
            "colorbar": {
             "outlinewidth": 0,
             "ticks": ""
            },
            "colorscale": [
             [
              0,
              "#0d0887"
             ],
             [
              0.1111111111111111,
              "#46039f"
             ],
             [
              0.2222222222222222,
              "#7201a8"
             ],
             [
              0.3333333333333333,
              "#9c179e"
             ],
             [
              0.4444444444444444,
              "#bd3786"
             ],
             [
              0.5555555555555556,
              "#d8576b"
             ],
             [
              0.6666666666666666,
              "#ed7953"
             ],
             [
              0.7777777777777778,
              "#fb9f3a"
             ],
             [
              0.8888888888888888,
              "#fdca26"
             ],
             [
              1,
              "#f0f921"
             ]
            ],
            "type": "surface"
           }
          ],
          "table": [
           {
            "cells": {
             "fill": {
              "color": "#506784"
             },
             "line": {
              "color": "rgb(17,17,17)"
             }
            },
            "header": {
             "fill": {
              "color": "#2a3f5f"
             },
             "line": {
              "color": "rgb(17,17,17)"
             }
            },
            "type": "table"
           }
          ]
         },
         "layout": {
          "annotationdefaults": {
           "arrowcolor": "#f2f5fa",
           "arrowhead": 0,
           "arrowwidth": 1
          },
          "autotypenumbers": "strict",
          "coloraxis": {
           "colorbar": {
            "outlinewidth": 0,
            "ticks": ""
           }
          },
          "colorscale": {
           "diverging": [
            [
             0,
             "#8e0152"
            ],
            [
             0.1,
             "#c51b7d"
            ],
            [
             0.2,
             "#de77ae"
            ],
            [
             0.3,
             "#f1b6da"
            ],
            [
             0.4,
             "#fde0ef"
            ],
            [
             0.5,
             "#f7f7f7"
            ],
            [
             0.6,
             "#e6f5d0"
            ],
            [
             0.7,
             "#b8e186"
            ],
            [
             0.8,
             "#7fbc41"
            ],
            [
             0.9,
             "#4d9221"
            ],
            [
             1,
             "#276419"
            ]
           ],
           "sequential": [
            [
             0,
             "#0d0887"
            ],
            [
             0.1111111111111111,
             "#46039f"
            ],
            [
             0.2222222222222222,
             "#7201a8"
            ],
            [
             0.3333333333333333,
             "#9c179e"
            ],
            [
             0.4444444444444444,
             "#bd3786"
            ],
            [
             0.5555555555555556,
             "#d8576b"
            ],
            [
             0.6666666666666666,
             "#ed7953"
            ],
            [
             0.7777777777777778,
             "#fb9f3a"
            ],
            [
             0.8888888888888888,
             "#fdca26"
            ],
            [
             1,
             "#f0f921"
            ]
           ],
           "sequentialminus": [
            [
             0,
             "#0d0887"
            ],
            [
             0.1111111111111111,
             "#46039f"
            ],
            [
             0.2222222222222222,
             "#7201a8"
            ],
            [
             0.3333333333333333,
             "#9c179e"
            ],
            [
             0.4444444444444444,
             "#bd3786"
            ],
            [
             0.5555555555555556,
             "#d8576b"
            ],
            [
             0.6666666666666666,
             "#ed7953"
            ],
            [
             0.7777777777777778,
             "#fb9f3a"
            ],
            [
             0.8888888888888888,
             "#fdca26"
            ],
            [
             1,
             "#f0f921"
            ]
           ]
          },
          "colorway": [
           "#636efa",
           "#EF553B",
           "#00cc96",
           "#ab63fa",
           "#FFA15A",
           "#19d3f3",
           "#FF6692",
           "#B6E880",
           "#FF97FF",
           "#FECB52"
          ],
          "font": {
           "color": "#f2f5fa"
          },
          "geo": {
           "bgcolor": "rgb(17,17,17)",
           "lakecolor": "rgb(17,17,17)",
           "landcolor": "rgb(17,17,17)",
           "showlakes": true,
           "showland": true,
           "subunitcolor": "#506784"
          },
          "hoverlabel": {
           "align": "left"
          },
          "hovermode": "closest",
          "mapbox": {
           "style": "dark"
          },
          "paper_bgcolor": "rgb(17,17,17)",
          "plot_bgcolor": "rgb(17,17,17)",
          "polar": {
           "angularaxis": {
            "gridcolor": "#506784",
            "linecolor": "#506784",
            "ticks": ""
           },
           "bgcolor": "rgb(17,17,17)",
           "radialaxis": {
            "gridcolor": "#506784",
            "linecolor": "#506784",
            "ticks": ""
           }
          },
          "scene": {
           "xaxis": {
            "backgroundcolor": "rgb(17,17,17)",
            "gridcolor": "#506784",
            "gridwidth": 2,
            "linecolor": "#506784",
            "showbackground": true,
            "ticks": "",
            "zerolinecolor": "#C8D4E3"
           },
           "yaxis": {
            "backgroundcolor": "rgb(17,17,17)",
            "gridcolor": "#506784",
            "gridwidth": 2,
            "linecolor": "#506784",
            "showbackground": true,
            "ticks": "",
            "zerolinecolor": "#C8D4E3"
           },
           "zaxis": {
            "backgroundcolor": "rgb(17,17,17)",
            "gridcolor": "#506784",
            "gridwidth": 2,
            "linecolor": "#506784",
            "showbackground": true,
            "ticks": "",
            "zerolinecolor": "#C8D4E3"
           }
          },
          "shapedefaults": {
           "line": {
            "color": "#f2f5fa"
           }
          },
          "sliderdefaults": {
           "bgcolor": "#C8D4E3",
           "bordercolor": "rgb(17,17,17)",
           "borderwidth": 1,
           "tickwidth": 0
          },
          "ternary": {
           "aaxis": {
            "gridcolor": "#506784",
            "linecolor": "#506784",
            "ticks": ""
           },
           "baxis": {
            "gridcolor": "#506784",
            "linecolor": "#506784",
            "ticks": ""
           },
           "bgcolor": "rgb(17,17,17)",
           "caxis": {
            "gridcolor": "#506784",
            "linecolor": "#506784",
            "ticks": ""
           }
          },
          "title": {
           "x": 0.05
          },
          "updatemenudefaults": {
           "bgcolor": "#506784",
           "borderwidth": 0
          },
          "xaxis": {
           "automargin": true,
           "gridcolor": "#283442",
           "linecolor": "#506784",
           "ticks": "",
           "title": {
            "standoff": 15
           },
           "zerolinecolor": "#283442",
           "zerolinewidth": 2
          },
          "yaxis": {
           "automargin": true,
           "gridcolor": "#283442",
           "linecolor": "#506784",
           "ticks": "",
           "title": {
            "standoff": 15
           },
           "zerolinecolor": "#283442",
           "zerolinewidth": 2
          }
         }
        },
        "title": {
         "text": "Box Office Collection by Film Industry"
        },
        "xaxis": {
         "anchor": "y",
         "categoryarray": [
          "Bollywood (Hindi)",
          "Kollywood (Tamil)",
          "Bengali Cinema",
          "Mollywood (Malayalam)",
          "Sandalwood (Kannada)",
          "Tollywood (Telugu)",
          "Marathi Cinema",
          "South Korean Cinema",
          "Hollywood (English)"
         ],
         "categoryorder": "array",
         "domain": [
          0,
          1
         ],
         "title": {
          "text": "Film Industry"
         }
        },
        "yaxis": {
         "anchor": "x",
         "domain": [
          0,
          1
         ],
         "title": {
          "text": "Box office collection"
         }
        }
       }
      },
      "text/html": [
       "<div>                            <div id=\"1a7faf22-1e5b-47e8-be1e-c3c7a650dd28\" class=\"plotly-graph-div\" style=\"height:525px; width:100%;\"></div>            <script type=\"text/javascript\">                require([\"plotly\"], function(Plotly) {                    window.PLOTLYENV=window.PLOTLYENV || {};                                    if (document.getElementById(\"1a7faf22-1e5b-47e8-be1e-c3c7a650dd28\")) {                    Plotly.newPlot(                        \"1a7faf22-1e5b-47e8-be1e-c3c7a650dd28\",                        [{\"hovertemplate\":\"Film Industry=%{x}\\u003cbr\\u003eBox office collection=%{y}\\u003cextra\\u003e\\u003c\\u002fextra\\u003e\",\"legendgroup\":\"Bollywood (Hindi)\",\"marker\":{\"color\":\"#636efa\",\"symbol\":\"circle\"},\"mode\":\"markers\",\"name\":\"Bollywood (Hindi)\",\"orientation\":\"v\",\"showlegend\":true,\"x\":[\"Bollywood (Hindi)\",\"Bollywood (Hindi)\",\"Bollywood (Hindi)\",\"Bollywood (Hindi)\",\"Bollywood (Hindi)\",\"Bollywood (Hindi)\",\"Bollywood (Hindi)\",\"Bollywood (Hindi)\",\"Bollywood (Hindi)\",\"Bollywood (Hindi)\",\"Bollywood (Hindi)\",\"Bollywood (Hindi)\",\"Bollywood (Hindi)\",\"Bollywood (Hindi)\",\"Bollywood (Hindi)\",\"Bollywood (Hindi)\",\"Bollywood (Hindi)\",\"Bollywood (Hindi)\",\"Bollywood (Hindi)\",\"Bollywood (Hindi)\",\"Bollywood (Hindi)\",\"Bollywood (Hindi)\",\"Bollywood (Hindi)\",\"Bollywood (Hindi)\",\"Bollywood (Hindi)\",\"Bollywood (Hindi)\",\"Bollywood (Hindi)\",\"Bollywood (Hindi)\",\"Bollywood (Hindi)\",\"Bollywood (Hindi)\",\"Bollywood (Hindi)\",\"Bollywood (Hindi)\",\"Bollywood (Hindi)\",\"Bollywood (Hindi)\",\"Bollywood (Hindi)\",\"Bollywood (Hindi)\",\"Bollywood (Hindi)\",\"Bollywood (Hindi)\",\"Bollywood (Hindi)\",\"Bollywood (Hindi)\",\"Bollywood (Hindi)\",\"Bollywood (Hindi)\",\"Bollywood (Hindi)\",\"Bollywood (Hindi)\",\"Bollywood (Hindi)\",\"Bollywood (Hindi)\",\"Bollywood (Hindi)\",\"Bollywood (Hindi)\",\"Bollywood (Hindi)\",\"Bollywood (Hindi)\",\"Bollywood (Hindi)\",\"Bollywood (Hindi)\",\"Bollywood (Hindi)\",\"Bollywood (Hindi)\",\"Bollywood (Hindi)\",\"Bollywood (Hindi)\",\"Bollywood (Hindi)\",\"Bollywood (Hindi)\",\"Bollywood (Hindi)\",\"Bollywood (Hindi)\",\"Bollywood (Hindi)\",\"Bollywood (Hindi)\",\"Bollywood (Hindi)\",\"Bollywood (Hindi)\",\"Bollywood (Hindi)\",\"Bollywood (Hindi)\",\"Bollywood (Hindi)\",\"Bollywood (Hindi)\",\"Bollywood (Hindi)\",\"Bollywood (Hindi)\",\"Bollywood (Hindi)\",\"Bollywood (Hindi)\",\"Bollywood (Hindi)\",\"Bollywood (Hindi)\",\"Bollywood (Hindi)\",\"Bollywood (Hindi)\",\"Bollywood (Hindi)\",\"Bollywood (Hindi)\",\"Bollywood (Hindi)\",\"Bollywood (Hindi)\",\"Bollywood (Hindi)\",\"Bollywood (Hindi)\",\"Bollywood (Hindi)\",\"Bollywood (Hindi)\",\"Bollywood (Hindi)\",\"Bollywood (Hindi)\",\"Bollywood (Hindi)\",\"Bollywood (Hindi)\",\"Bollywood (Hindi)\",\"Bollywood (Hindi)\",\"Bollywood (Hindi)\",\"Bollywood (Hindi)\",\"Bollywood (Hindi)\",\"Bollywood (Hindi)\",\"Bollywood (Hindi)\",\"Bollywood (Hindi)\",\"Bollywood (Hindi)\",\"Bollywood (Hindi)\",\"Bollywood (Hindi)\",\"Bollywood (Hindi)\",\"Bollywood (Hindi)\",\"Bollywood (Hindi)\"],\"xaxis\":\"x\",\"y\":[\"$138,288.00\",\" NIL\",\"$60,262,836.00\",\"$1,610,897.00\",\"$398,615.00\",\"$21,897,373.00\",\"$108,886.00\",\"$303,723,636.00\",\" NIL\",\"$40,194.00\",\" NIL\",\"$11,939.76\",\"$4,384,642.00\",\"$17,551,296.00\",\" NIL\",\" NIL\",\"$5,192,743.00\",\"$62,475,342.00\",\"$377,803.00\",\" NIL\",\"$3,137,716.00\",\"$1,953,889.00\",\"$3,311,391.00\",\"$1,691,980.00\",\"$40,311.00\",\" NIL\",\"$21,505,244.00\",\"$1,266,341.00\",\"$100,370,104.00\",\"$1,724,806.00\",\"$288,733.00\",\"$6,879,098.00\",\" NIL\",\" NIL\",\"$4,490,134.00\",\"$39,346,577.00\",\"$434,862.00\",\" NIL\",\"$734,514.00\",\"$12,140,087.00\",\"$502,391.00\",\"$459,234.00\",\"$651,748.00\",\"$17,897,527.00\",\" NIL\",\"$10,800,778.00\",\"$316,221.00\",\" NIL\",\"$3,256,911.00\",\"$121,126,188.00\",\"$180,180.00\",\"$16,466,144.00\",\" NIL\",\"$129,916.00\",\"$161,434.00\",\"$75,690.00\",\" NIL\",\"$647,074.00\",\"$2,364,294.00\",\" NIL\",\"$1,404,307.00\",\" NIL\",\"$81,367.00\",\" NIL\",\"$327.00\",\"$843,373.49\",\"$65,317.00\",\"$1,475,000.00\",\"$26,125,610.00\",\"$28,299,498.00\",\"$144,578.31\",\"$10,065,630.00\",\"$42,345,360.00\",\"$1,325,301.20\",\"$4,047,969.00\",\"$140,981.00\",\"$963,855.42\",\"$28,903,047.00\",\"$13,200,241.00\",\"$2,080,758.00\",\"$29,045,020.00\",\"$41,635,636.00\",\"$151,226.00\",\"$24,701,637.00\",\"$1,109,943.00\",\"$10,299,150.00\",\"$517,575.00\",\"$11,533,057.00\",\"$5,859,242.00\",\" NIL\",\"$11,621,785.00\",\"$1,875,477.00\",\"$3,614,457.83\",\"$9,323,484.00\",\"$371,226.00\",\"$1,241,102.00\",\" NIL\",\"$6,887,221.00\",\"$71,369.00\",\"$6,456,358.00\",\" NIL\",\" NIL\"],\"yaxis\":\"y\",\"type\":\"scatter\"},{\"hovertemplate\":\"Film Industry=%{x}\\u003cbr\\u003eBox office collection=%{y}\\u003cextra\\u003e\\u003c\\u002fextra\\u003e\",\"legendgroup\":\"Kollywood (Tamil)\",\"marker\":{\"color\":\"#EF553B\",\"symbol\":\"circle\"},\"mode\":\"markers\",\"name\":\"Kollywood (Tamil)\",\"orientation\":\"v\",\"showlegend\":true,\"x\":[\"Kollywood (Tamil)\",\"Kollywood (Tamil)\",\"Kollywood (Tamil)\",\"Kollywood (Tamil)\",\"Kollywood (Tamil)\",\"Kollywood (Tamil)\",\"Kollywood (Tamil)\",\"Kollywood (Tamil)\",\"Kollywood (Tamil)\",\"Kollywood (Tamil)\",\"Kollywood (Tamil)\",\"Kollywood (Tamil)\",\"Kollywood (Tamil)\",\"Kollywood (Tamil)\",\"Kollywood (Tamil)\",\"Kollywood (Tamil)\",\"Kollywood (Tamil)\",\"Kollywood (Tamil)\",\"Kollywood (Tamil)\",\"Kollywood (Tamil)\",\"Kollywood (Tamil)\",\"Kollywood (Tamil)\",\"Kollywood (Tamil)\",\"Kollywood (Tamil)\",\"Kollywood (Tamil)\",\"Kollywood (Tamil)\",\"Kollywood (Tamil)\",\"Kollywood (Tamil)\",\"Kollywood (Tamil)\",\"Kollywood (Tamil)\",\"Kollywood (Tamil)\",\"Kollywood (Tamil)\",\"Kollywood (Tamil)\",\"Kollywood (Tamil)\",\"Kollywood (Tamil)\",\"Kollywood (Tamil)\",\"Kollywood (Tamil)\",\"Kollywood (Tamil)\",\"Kollywood (Tamil)\",\"Kollywood (Tamil)\",\"Kollywood (Tamil)\",\"Kollywood (Tamil)\",\"Kollywood (Tamil)\",\"Kollywood (Tamil)\",\"Kollywood (Tamil)\",\"Kollywood (Tamil)\",\"Kollywood (Tamil)\",\"Kollywood (Tamil)\",\"Kollywood (Tamil)\",\"Kollywood (Tamil)\",\"Kollywood (Tamil)\",\"Kollywood (Tamil)\",\"Kollywood (Tamil)\",\"Kollywood (Tamil)\",\"Kollywood (Tamil)\",\"Kollywood (Tamil)\",\"Kollywood (Tamil)\",\"Kollywood (Tamil)\",\"Kollywood (Tamil)\",\"Kollywood (Tamil)\",\"Kollywood (Tamil)\",\"Kollywood (Tamil)\",\"Kollywood (Tamil)\",\"Kollywood (Tamil)\"],\"xaxis\":\"x\",\"y\":[\"$975,543.00\",\"$120,481.93\",\" NIL\",\" NIL\",\"$1,807,228.92\",\"$616,333.00\",\"$1,943.00\",\"$522,938.00\",\" NIL\",\"$379,728.00\",\" NIL\",\" NIL\",\"$3,373,493.98\",\" NIL\",\"$472,865.00\",\"$2,409,638.55\",\" NIL\",\"$3,417.00\",\" NIL\",\"$273,191.00\",\"$6,024,096.39\",\" NIL\",\"$546,792.00\",\"$602,409.64\",\"$400,000.00\",\"$843,373.49\",\"$4,652.00\",\"$29,837,637.00\",\"$24,274.00\",\"$246,551.00\",\"$843,373.49\",\"$5,746,385.54\",\" NIL\",\"$238,484.00\",\"$3,012,048.19\",\"$963,855.42\",\"$4,216,867.47\",\" NIL\",\" NIL\",\"$118,072.29\",\"$184.00\",\"$5,880.00\",\"$5,301,204.82\",\"$96,878.00\",\"$921,007.00\",\"$7,664.00\",\"$4,997.00\",\"$96,385.54\",\"$1,204,819.28\",\"$565,759.00\",\"$846,407.00\",\"$366,674.00\",\"$350,534.00\",\"$292,732.00\",\"$180,722.89\",\"$279,408.00\",\"$274,675.00\",\"$3,817,585.00\",\"$158,787.00\",\"$7,888.00\",\"$602,409.64\",\"$6,024,096.39\",\"$2,130,470.00\",\"$163,961.00\"],\"yaxis\":\"y\",\"type\":\"scatter\"},{\"hovertemplate\":\"Film Industry=%{x}\\u003cbr\\u003eBox office collection=%{y}\\u003cextra\\u003e\\u003c\\u002fextra\\u003e\",\"legendgroup\":\"Bengali Cinema\",\"marker\":{\"color\":\"#00cc96\",\"symbol\":\"circle\"},\"mode\":\"markers\",\"name\":\"Bengali Cinema\",\"orientation\":\"v\",\"showlegend\":true,\"x\":[\"Bengali Cinema\",\"Bengali Cinema\",\"Bengali Cinema\",\"Bengali Cinema\",\"Bengali Cinema\",\"Bengali Cinema\"],\"xaxis\":\"x\",\"y\":[\"$134,241.00\",\"$134,241.00\",\"$135,342.00\",\" NIL\",\" NIL\",\"$3,247.00\"],\"yaxis\":\"y\",\"type\":\"scatter\"},{\"hovertemplate\":\"Film Industry=%{x}\\u003cbr\\u003eBox office collection=%{y}\\u003cextra\\u003e\\u003c\\u002fextra\\u003e\",\"legendgroup\":\"Mollywood (Malayalam)\",\"marker\":{\"color\":\"#ab63fa\",\"symbol\":\"circle\"},\"mode\":\"markers\",\"name\":\"Mollywood (Malayalam)\",\"orientation\":\"v\",\"showlegend\":true,\"x\":[\"Mollywood (Malayalam)\",\"Mollywood (Malayalam)\",\"Mollywood (Malayalam)\",\"Mollywood (Malayalam)\",\"Mollywood (Malayalam)\",\"Mollywood (Malayalam)\",\"Mollywood (Malayalam)\",\"Mollywood (Malayalam)\",\"Mollywood (Malayalam)\",\"Mollywood (Malayalam)\",\"Mollywood (Malayalam)\",\"Mollywood (Malayalam)\",\"Mollywood (Malayalam)\",\"Mollywood (Malayalam)\",\"Mollywood (Malayalam)\",\"Mollywood (Malayalam)\",\"Mollywood (Malayalam)\",\"Mollywood (Malayalam)\",\"Mollywood (Malayalam)\",\"Mollywood (Malayalam)\",\"Mollywood (Malayalam)\",\"Mollywood (Malayalam)\",\"Mollywood (Malayalam)\",\"Mollywood (Malayalam)\",\"Mollywood (Malayalam)\",\"Mollywood (Malayalam)\",\"Mollywood (Malayalam)\",\"Mollywood (Malayalam)\",\"Mollywood (Malayalam)\",\"Mollywood (Malayalam)\",\"Mollywood (Malayalam)\",\"Mollywood (Malayalam)\",\"Mollywood (Malayalam)\",\"Mollywood (Malayalam)\",\"Mollywood (Malayalam)\",\"Mollywood (Malayalam)\",\"Mollywood (Malayalam)\",\"Mollywood (Malayalam)\"],\"xaxis\":\"x\",\"y\":[\" NIL\",\"$843,373.49\",\"$1,312,005.00\",\"$181,001.00\",\" NIL\",\"$3,841.00\",\" NIL\",\"$13,076,265.00\",\"$180,217.00\",\"$7,228,915.66\",\" NIL\",\"$9,400,000.00\",\" NIL\",\"$62,313.00\",\"$586,973.00\",\"$3,784,106.00\",\"$3,135,150.00\",\"$2,973,347.00\",\"$22,361.00\",\"$4,547,765.00\",\"$2,178.00\",\" NIL\",\"$185,586.00\",\"$5,088,713.00\",\"$46,083.00\",\"$803,887.00\",\"$957.00\",\"$884,267.00\",\" NIL\",\"$1,740,483.00\",\"$10,230.00\",\" NIL\",\"$1,106,211.00\",\"$602,409.64\",\"$3,012,048.19\",\" NIL\",\"$661,915.00\",\"$44,990.00\"],\"yaxis\":\"y\",\"type\":\"scatter\"},{\"hovertemplate\":\"Film Industry=%{x}\\u003cbr\\u003eBox office collection=%{y}\\u003cextra\\u003e\\u003c\\u002fextra\\u003e\",\"legendgroup\":\"Sandalwood (Kannada)\",\"marker\":{\"color\":\"#FFA15A\",\"symbol\":\"circle\"},\"mode\":\"markers\",\"name\":\"Sandalwood (Kannada)\",\"orientation\":\"v\",\"showlegend\":true,\"x\":[\"Sandalwood (Kannada)\",\"Sandalwood (Kannada)\",\"Sandalwood (Kannada)\",\"Sandalwood (Kannada)\",\"Sandalwood (Kannada)\",\"Sandalwood (Kannada)\",\"Sandalwood (Kannada)\",\"Sandalwood (Kannada)\",\"Sandalwood (Kannada)\",\"Sandalwood (Kannada)\"],\"xaxis\":\"x\",\"y\":[\"$7,523,995.00\",\"$61,445.78\",\"$6,421,597.00\",\"$37,253.00\",\"$2,406,221.00\",\"$253,012.05\",\"$120,481.93\",\"$89,123,940.00\",\"$12,195.00\",\"$5,138,042.00\"],\"yaxis\":\"y\",\"type\":\"scatter\"},{\"hovertemplate\":\"Film Industry=%{x}\\u003cbr\\u003eBox office collection=%{y}\\u003cextra\\u003e\\u003c\\u002fextra\\u003e\",\"legendgroup\":\"Tollywood (Telugu)\",\"marker\":{\"color\":\"#19d3f3\",\"symbol\":\"circle\"},\"mode\":\"markers\",\"name\":\"Tollywood (Telugu)\",\"orientation\":\"v\",\"showlegend\":true,\"x\":[\"Tollywood (Telugu)\",\"Tollywood (Telugu)\",\"Tollywood (Telugu)\",\"Tollywood (Telugu)\",\"Tollywood (Telugu)\",\"Tollywood (Telugu)\",\"Tollywood (Telugu)\",\"Tollywood (Telugu)\",\"Tollywood (Telugu)\",\"Tollywood (Telugu)\",\"Tollywood (Telugu)\",\"Tollywood (Telugu)\",\"Tollywood (Telugu)\",\"Tollywood (Telugu)\",\"Tollywood (Telugu)\",\"Tollywood (Telugu)\",\"Tollywood (Telugu)\",\"Tollywood (Telugu)\",\"Tollywood (Telugu)\",\"Tollywood (Telugu)\",\"Tollywood (Telugu)\",\"Tollywood (Telugu)\",\"Tollywood (Telugu)\",\"Tollywood (Telugu)\",\"Tollywood (Telugu)\",\"Tollywood (Telugu)\"],\"xaxis\":\"x\",\"y\":[\" NIL\",\"$204,669.00\",\" NIL\",\"$2,208,029.00\",\" NIL\",\"$4,454.00\",\"$279,078.00\",\"$254,158,390.00\",\" NIL\",\"$36,144.58\",\"$90,361.45\",\"$551,820.00\",\"$210,780.00\",\" NIL\",\"$62,744.00\",\"$132,530.12\",\" NIL\",\"$4,961,424.00\",\"$24,548,038.00\",\"$145,522.00\",\"$7,124.00\",\"$93,651.00\",\"$1,566,265.06\",\"$11,764.00\",\"$28,369.00\",\"$361,445.78\"],\"yaxis\":\"y\",\"type\":\"scatter\"},{\"hovertemplate\":\"Film Industry=%{x}\\u003cbr\\u003eBox office collection=%{y}\\u003cextra\\u003e\\u003c\\u002fextra\\u003e\",\"legendgroup\":\"Marathi Cinema\",\"marker\":{\"color\":\"#FF6692\",\"symbol\":\"circle\"},\"mode\":\"markers\",\"name\":\"Marathi Cinema\",\"orientation\":\"v\",\"showlegend\":true,\"x\":[\"Marathi Cinema\",\"Marathi Cinema\"],\"xaxis\":\"x\",\"y\":[\"$633.00\",\" NIL\"],\"yaxis\":\"y\",\"type\":\"scatter\"},{\"hovertemplate\":\"Film Industry=%{x}\\u003cbr\\u003eBox office collection=%{y}\\u003cextra\\u003e\\u003c\\u002fextra\\u003e\",\"legendgroup\":\"South Korean Cinema\",\"marker\":{\"color\":\"#B6E880\",\"symbol\":\"circle\"},\"mode\":\"markers\",\"name\":\"South Korean Cinema\",\"orientation\":\"v\",\"showlegend\":true,\"x\":[\"South Korean Cinema\"],\"xaxis\":\"x\",\"y\":[\" NIL\"],\"yaxis\":\"y\",\"type\":\"scatter\"},{\"hovertemplate\":\"Film Industry=%{x}\\u003cbr\\u003eBox office collection=%{y}\\u003cextra\\u003e\\u003c\\u002fextra\\u003e\",\"legendgroup\":\"Hollywood (English)\",\"marker\":{\"color\":\"#FF97FF\",\"symbol\":\"circle\"},\"mode\":\"markers\",\"name\":\"Hollywood (English)\",\"orientation\":\"v\",\"showlegend\":true,\"x\":[\"Hollywood (English)\"],\"xaxis\":\"x\",\"y\":[\"$140,853,810.00\"],\"yaxis\":\"y\",\"type\":\"scatter\"}],                        {\"template\":{\"data\":{\"histogram2dcontour\":[{\"type\":\"histogram2dcontour\",\"colorbar\":{\"outlinewidth\":0,\"ticks\":\"\"},\"colorscale\":[[0.0,\"#0d0887\"],[0.1111111111111111,\"#46039f\"],[0.2222222222222222,\"#7201a8\"],[0.3333333333333333,\"#9c179e\"],[0.4444444444444444,\"#bd3786\"],[0.5555555555555556,\"#d8576b\"],[0.6666666666666666,\"#ed7953\"],[0.7777777777777778,\"#fb9f3a\"],[0.8888888888888888,\"#fdca26\"],[1.0,\"#f0f921\"]]}],\"choropleth\":[{\"type\":\"choropleth\",\"colorbar\":{\"outlinewidth\":0,\"ticks\":\"\"}}],\"histogram2d\":[{\"type\":\"histogram2d\",\"colorbar\":{\"outlinewidth\":0,\"ticks\":\"\"},\"colorscale\":[[0.0,\"#0d0887\"],[0.1111111111111111,\"#46039f\"],[0.2222222222222222,\"#7201a8\"],[0.3333333333333333,\"#9c179e\"],[0.4444444444444444,\"#bd3786\"],[0.5555555555555556,\"#d8576b\"],[0.6666666666666666,\"#ed7953\"],[0.7777777777777778,\"#fb9f3a\"],[0.8888888888888888,\"#fdca26\"],[1.0,\"#f0f921\"]]}],\"heatmap\":[{\"type\":\"heatmap\",\"colorbar\":{\"outlinewidth\":0,\"ticks\":\"\"},\"colorscale\":[[0.0,\"#0d0887\"],[0.1111111111111111,\"#46039f\"],[0.2222222222222222,\"#7201a8\"],[0.3333333333333333,\"#9c179e\"],[0.4444444444444444,\"#bd3786\"],[0.5555555555555556,\"#d8576b\"],[0.6666666666666666,\"#ed7953\"],[0.7777777777777778,\"#fb9f3a\"],[0.8888888888888888,\"#fdca26\"],[1.0,\"#f0f921\"]]}],\"heatmapgl\":[{\"type\":\"heatmapgl\",\"colorbar\":{\"outlinewidth\":0,\"ticks\":\"\"},\"colorscale\":[[0.0,\"#0d0887\"],[0.1111111111111111,\"#46039f\"],[0.2222222222222222,\"#7201a8\"],[0.3333333333333333,\"#9c179e\"],[0.4444444444444444,\"#bd3786\"],[0.5555555555555556,\"#d8576b\"],[0.6666666666666666,\"#ed7953\"],[0.7777777777777778,\"#fb9f3a\"],[0.8888888888888888,\"#fdca26\"],[1.0,\"#f0f921\"]]}],\"contourcarpet\":[{\"type\":\"contourcarpet\",\"colorbar\":{\"outlinewidth\":0,\"ticks\":\"\"}}],\"contour\":[{\"type\":\"contour\",\"colorbar\":{\"outlinewidth\":0,\"ticks\":\"\"},\"colorscale\":[[0.0,\"#0d0887\"],[0.1111111111111111,\"#46039f\"],[0.2222222222222222,\"#7201a8\"],[0.3333333333333333,\"#9c179e\"],[0.4444444444444444,\"#bd3786\"],[0.5555555555555556,\"#d8576b\"],[0.6666666666666666,\"#ed7953\"],[0.7777777777777778,\"#fb9f3a\"],[0.8888888888888888,\"#fdca26\"],[1.0,\"#f0f921\"]]}],\"surface\":[{\"type\":\"surface\",\"colorbar\":{\"outlinewidth\":0,\"ticks\":\"\"},\"colorscale\":[[0.0,\"#0d0887\"],[0.1111111111111111,\"#46039f\"],[0.2222222222222222,\"#7201a8\"],[0.3333333333333333,\"#9c179e\"],[0.4444444444444444,\"#bd3786\"],[0.5555555555555556,\"#d8576b\"],[0.6666666666666666,\"#ed7953\"],[0.7777777777777778,\"#fb9f3a\"],[0.8888888888888888,\"#fdca26\"],[1.0,\"#f0f921\"]]}],\"mesh3d\":[{\"type\":\"mesh3d\",\"colorbar\":{\"outlinewidth\":0,\"ticks\":\"\"}}],\"scatter\":[{\"marker\":{\"line\":{\"color\":\"#283442\"}},\"type\":\"scatter\"}],\"parcoords\":[{\"type\":\"parcoords\",\"line\":{\"colorbar\":{\"outlinewidth\":0,\"ticks\":\"\"}}}],\"scatterpolargl\":[{\"type\":\"scatterpolargl\",\"marker\":{\"colorbar\":{\"outlinewidth\":0,\"ticks\":\"\"}}}],\"bar\":[{\"error_x\":{\"color\":\"#f2f5fa\"},\"error_y\":{\"color\":\"#f2f5fa\"},\"marker\":{\"line\":{\"color\":\"rgb(17,17,17)\",\"width\":0.5},\"pattern\":{\"fillmode\":\"overlay\",\"size\":10,\"solidity\":0.2}},\"type\":\"bar\"}],\"scattergeo\":[{\"type\":\"scattergeo\",\"marker\":{\"colorbar\":{\"outlinewidth\":0,\"ticks\":\"\"}}}],\"scatterpolar\":[{\"type\":\"scatterpolar\",\"marker\":{\"colorbar\":{\"outlinewidth\":0,\"ticks\":\"\"}}}],\"histogram\":[{\"marker\":{\"pattern\":{\"fillmode\":\"overlay\",\"size\":10,\"solidity\":0.2}},\"type\":\"histogram\"}],\"scattergl\":[{\"marker\":{\"line\":{\"color\":\"#283442\"}},\"type\":\"scattergl\"}],\"scatter3d\":[{\"type\":\"scatter3d\",\"line\":{\"colorbar\":{\"outlinewidth\":0,\"ticks\":\"\"}},\"marker\":{\"colorbar\":{\"outlinewidth\":0,\"ticks\":\"\"}}}],\"scattermapbox\":[{\"type\":\"scattermapbox\",\"marker\":{\"colorbar\":{\"outlinewidth\":0,\"ticks\":\"\"}}}],\"scatterternary\":[{\"type\":\"scatterternary\",\"marker\":{\"colorbar\":{\"outlinewidth\":0,\"ticks\":\"\"}}}],\"scattercarpet\":[{\"type\":\"scattercarpet\",\"marker\":{\"colorbar\":{\"outlinewidth\":0,\"ticks\":\"\"}}}],\"carpet\":[{\"aaxis\":{\"endlinecolor\":\"#A2B1C6\",\"gridcolor\":\"#506784\",\"linecolor\":\"#506784\",\"minorgridcolor\":\"#506784\",\"startlinecolor\":\"#A2B1C6\"},\"baxis\":{\"endlinecolor\":\"#A2B1C6\",\"gridcolor\":\"#506784\",\"linecolor\":\"#506784\",\"minorgridcolor\":\"#506784\",\"startlinecolor\":\"#A2B1C6\"},\"type\":\"carpet\"}],\"table\":[{\"cells\":{\"fill\":{\"color\":\"#506784\"},\"line\":{\"color\":\"rgb(17,17,17)\"}},\"header\":{\"fill\":{\"color\":\"#2a3f5f\"},\"line\":{\"color\":\"rgb(17,17,17)\"}},\"type\":\"table\"}],\"barpolar\":[{\"marker\":{\"line\":{\"color\":\"rgb(17,17,17)\",\"width\":0.5},\"pattern\":{\"fillmode\":\"overlay\",\"size\":10,\"solidity\":0.2}},\"type\":\"barpolar\"}],\"pie\":[{\"automargin\":true,\"type\":\"pie\"}]},\"layout\":{\"autotypenumbers\":\"strict\",\"colorway\":[\"#636efa\",\"#EF553B\",\"#00cc96\",\"#ab63fa\",\"#FFA15A\",\"#19d3f3\",\"#FF6692\",\"#B6E880\",\"#FF97FF\",\"#FECB52\"],\"font\":{\"color\":\"#f2f5fa\"},\"hovermode\":\"closest\",\"hoverlabel\":{\"align\":\"left\"},\"paper_bgcolor\":\"rgb(17,17,17)\",\"plot_bgcolor\":\"rgb(17,17,17)\",\"polar\":{\"bgcolor\":\"rgb(17,17,17)\",\"angularaxis\":{\"gridcolor\":\"#506784\",\"linecolor\":\"#506784\",\"ticks\":\"\"},\"radialaxis\":{\"gridcolor\":\"#506784\",\"linecolor\":\"#506784\",\"ticks\":\"\"}},\"ternary\":{\"bgcolor\":\"rgb(17,17,17)\",\"aaxis\":{\"gridcolor\":\"#506784\",\"linecolor\":\"#506784\",\"ticks\":\"\"},\"baxis\":{\"gridcolor\":\"#506784\",\"linecolor\":\"#506784\",\"ticks\":\"\"},\"caxis\":{\"gridcolor\":\"#506784\",\"linecolor\":\"#506784\",\"ticks\":\"\"}},\"coloraxis\":{\"colorbar\":{\"outlinewidth\":0,\"ticks\":\"\"}},\"colorscale\":{\"sequential\":[[0.0,\"#0d0887\"],[0.1111111111111111,\"#46039f\"],[0.2222222222222222,\"#7201a8\"],[0.3333333333333333,\"#9c179e\"],[0.4444444444444444,\"#bd3786\"],[0.5555555555555556,\"#d8576b\"],[0.6666666666666666,\"#ed7953\"],[0.7777777777777778,\"#fb9f3a\"],[0.8888888888888888,\"#fdca26\"],[1.0,\"#f0f921\"]],\"sequentialminus\":[[0.0,\"#0d0887\"],[0.1111111111111111,\"#46039f\"],[0.2222222222222222,\"#7201a8\"],[0.3333333333333333,\"#9c179e\"],[0.4444444444444444,\"#bd3786\"],[0.5555555555555556,\"#d8576b\"],[0.6666666666666666,\"#ed7953\"],[0.7777777777777778,\"#fb9f3a\"],[0.8888888888888888,\"#fdca26\"],[1.0,\"#f0f921\"]],\"diverging\":[[0,\"#8e0152\"],[0.1,\"#c51b7d\"],[0.2,\"#de77ae\"],[0.3,\"#f1b6da\"],[0.4,\"#fde0ef\"],[0.5,\"#f7f7f7\"],[0.6,\"#e6f5d0\"],[0.7,\"#b8e186\"],[0.8,\"#7fbc41\"],[0.9,\"#4d9221\"],[1,\"#276419\"]]},\"xaxis\":{\"gridcolor\":\"#283442\",\"linecolor\":\"#506784\",\"ticks\":\"\",\"title\":{\"standoff\":15},\"zerolinecolor\":\"#283442\",\"automargin\":true,\"zerolinewidth\":2},\"yaxis\":{\"gridcolor\":\"#283442\",\"linecolor\":\"#506784\",\"ticks\":\"\",\"title\":{\"standoff\":15},\"zerolinecolor\":\"#283442\",\"automargin\":true,\"zerolinewidth\":2},\"scene\":{\"xaxis\":{\"backgroundcolor\":\"rgb(17,17,17)\",\"gridcolor\":\"#506784\",\"linecolor\":\"#506784\",\"showbackground\":true,\"ticks\":\"\",\"zerolinecolor\":\"#C8D4E3\",\"gridwidth\":2},\"yaxis\":{\"backgroundcolor\":\"rgb(17,17,17)\",\"gridcolor\":\"#506784\",\"linecolor\":\"#506784\",\"showbackground\":true,\"ticks\":\"\",\"zerolinecolor\":\"#C8D4E3\",\"gridwidth\":2},\"zaxis\":{\"backgroundcolor\":\"rgb(17,17,17)\",\"gridcolor\":\"#506784\",\"linecolor\":\"#506784\",\"showbackground\":true,\"ticks\":\"\",\"zerolinecolor\":\"#C8D4E3\",\"gridwidth\":2}},\"shapedefaults\":{\"line\":{\"color\":\"#f2f5fa\"}},\"annotationdefaults\":{\"arrowcolor\":\"#f2f5fa\",\"arrowhead\":0,\"arrowwidth\":1},\"geo\":{\"bgcolor\":\"rgb(17,17,17)\",\"landcolor\":\"rgb(17,17,17)\",\"subunitcolor\":\"#506784\",\"showland\":true,\"showlakes\":true,\"lakecolor\":\"rgb(17,17,17)\"},\"title\":{\"x\":0.05},\"updatemenudefaults\":{\"bgcolor\":\"#506784\",\"borderwidth\":0},\"sliderdefaults\":{\"bgcolor\":\"#C8D4E3\",\"borderwidth\":1,\"bordercolor\":\"rgb(17,17,17)\",\"tickwidth\":0},\"mapbox\":{\"style\":\"dark\"}}},\"xaxis\":{\"anchor\":\"y\",\"domain\":[0.0,1.0],\"title\":{\"text\":\"Film Industry\"},\"categoryorder\":\"array\",\"categoryarray\":[\"Bollywood (Hindi)\",\"Kollywood (Tamil)\",\"Bengali Cinema\",\"Mollywood (Malayalam)\",\"Sandalwood (Kannada)\",\"Tollywood (Telugu)\",\"Marathi Cinema\",\"South Korean Cinema\",\"Hollywood (English)\"]},\"yaxis\":{\"anchor\":\"x\",\"domain\":[0.0,1.0],\"title\":{\"text\":\"Box office collection\"}},\"legend\":{\"title\":{\"text\":\"Film Industry\"},\"tracegroupgap\":0},\"title\":{\"text\":\"Box Office Collection by Film Industry\"}},                        {\"responsive\": true}                    ).then(function(){\n",
       "                            \n",
       "var gd = document.getElementById('1a7faf22-1e5b-47e8-be1e-c3c7a650dd28');\n",
       "var x = new MutationObserver(function (mutations, observer) {{\n",
       "        var display = window.getComputedStyle(gd).display;\n",
       "        if (!display || display === 'none') {{\n",
       "            console.log([gd, 'removed!']);\n",
       "            Plotly.purge(gd);\n",
       "            observer.disconnect();\n",
       "        }}\n",
       "}});\n",
       "\n",
       "// Listen for the removal of the full notebook cells\n",
       "var notebookContainer = gd.closest('#notebook-container');\n",
       "if (notebookContainer) {{\n",
       "    x.observe(notebookContainer, {childList: true});\n",
       "}}\n",
       "\n",
       "// Listen for the clearing of the current output cell\n",
       "var outputEl = gd.closest('.output');\n",
       "if (outputEl) {{\n",
       "    x.observe(outputEl, {childList: true});\n",
       "}}\n",
       "\n",
       "                        })                };                });            </script>        </div>"
      ]
     },
     "metadata": {},
     "output_type": "display_data"
    }
   ],
   "source": [
    "fig = px.scatter(file,y='Box office collection',x='Film Industry',color='Film Industry',title='Box Office Collection by Film Industry')\n",
    "fig.show()"
   ]
  },
  {
   "cell_type": "code",
   "execution_count": null,
   "id": "90df8c7c",
   "metadata": {},
   "outputs": [],
   "source": []
  }
 ],
 "metadata": {
  "kernelspec": {
   "display_name": "Python 3 (ipykernel)",
   "language": "python",
   "name": "python3"
  },
  "language_info": {
   "codemirror_mode": {
    "name": "ipython",
    "version": 3
   },
   "file_extension": ".py",
   "mimetype": "text/x-python",
   "name": "python",
   "nbconvert_exporter": "python",
   "pygments_lexer": "ipython3",
   "version": "3.9.7"
  }
 },
 "nbformat": 4,
 "nbformat_minor": 5
}
